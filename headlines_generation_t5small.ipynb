{
  "cells": [
    {
      "cell_type": "markdown",
      "metadata": {
        "id": "view-in-github",
        "colab_type": "text"
      },
      "source": [
        "<a href=\"https://colab.research.google.com/github/dalyeth/miscellanious-nlp-tasks/blob/main/headlines_generation_t5small.ipynb\" target=\"_parent\"><img src=\"https://colab.research.google.com/assets/colab-badge.svg\" alt=\"Open In Colab\"/></a>"
      ]
    },
    {
      "cell_type": "markdown",
      "id": "db4815e1",
      "metadata": {
        "papermill": {
          "duration": 0.011014,
          "end_time": "2024-01-29T16:49:44.202479",
          "exception": false,
          "start_time": "2024-01-29T16:49:44.191465",
          "status": "completed"
        },
        "tags": [],
        "id": "db4815e1"
      },
      "source": [
        "# Генерация заголовков научных статей\n",
        "Fine-tuning модели t5-small в рамках  соревнования https://www.kaggle.com/competitions/title-generation"
      ]
    },
    {
      "cell_type": "code",
      "execution_count": null,
      "id": "7424cc2b",
      "metadata": {
        "execution": {
          "iopub.execute_input": "2024-01-29T16:49:53.527497Z",
          "iopub.status.busy": "2024-01-29T16:49:53.527051Z",
          "iopub.status.idle": "2024-01-29T16:50:09.637407Z",
          "shell.execute_reply": "2024-01-29T16:50:09.636328Z"
        },
        "papermill": {
          "duration": 16.12503,
          "end_time": "2024-01-29T16:50:09.639782",
          "exception": false,
          "start_time": "2024-01-29T16:49:53.514752",
          "status": "completed"
        },
        "tags": [],
        "id": "7424cc2b"
      },
      "outputs": [],
      "source": [
        "\n",
        "! pip install -q evaluate rouge_score"
      ]
    },
    {
      "cell_type": "code",
      "execution_count": null,
      "id": "6e09b939",
      "metadata": {
        "execution": {
          "iopub.execute_input": "2024-01-29T16:50:09.662721Z",
          "iopub.status.busy": "2024-01-29T16:50:09.662403Z",
          "iopub.status.idle": "2024-01-29T16:50:24.590316Z",
          "shell.execute_reply": "2024-01-29T16:50:24.589189Z"
        },
        "papermill": {
          "duration": 14.942128,
          "end_time": "2024-01-29T16:50:24.592788",
          "exception": false,
          "start_time": "2024-01-29T16:50:09.650660",
          "status": "completed"
        },
        "tags": [],
        "id": "6e09b939"
      },
      "outputs": [],
      "source": [
        "import torch\n",
        "import torch.nn as nn\n",
        "import torch.optim as optim\n",
        "import torch.nn.functional as F\n",
        "import evaluate\n",
        "import numpy as np\n",
        "\n",
        "from transformers import (\n",
        "    T5Tokenizer,\n",
        "    T5ForConditionalGeneration,\n",
        "    TrainingArguments,\n",
        "   Trainer\n",
        ")\n",
        "\n",
        "\n",
        "import spacy\n",
        "import random\n",
        "import pandas as pd\n",
        "from sklearn.model_selection import train_test_split"
      ]
    },
    {
      "cell_type": "code",
      "execution_count": null,
      "id": "7a2737ac",
      "metadata": {
        "execution": {
          "iopub.execute_input": "2024-01-29T16:50:24.616436Z",
          "iopub.status.busy": "2024-01-29T16:50:24.615785Z",
          "iopub.status.idle": "2024-01-29T16:50:27.130104Z",
          "shell.execute_reply": "2024-01-29T16:50:27.129225Z"
        },
        "papermill": {
          "duration": 2.528401,
          "end_time": "2024-01-29T16:50:27.132549",
          "exception": false,
          "start_time": "2024-01-29T16:50:24.604148",
          "status": "completed"
        },
        "tags": [],
        "id": "7a2737ac"
      },
      "outputs": [],
      "source": [
        "df = pd.read_csv('/kaggle/input/title-generation/train.csv')\n"
      ]
    },
    {
      "cell_type": "code",
      "execution_count": null,
      "id": "b149474f",
      "metadata": {
        "execution": {
          "iopub.execute_input": "2024-01-29T16:50:27.155982Z",
          "iopub.status.busy": "2024-01-29T16:50:27.155440Z",
          "iopub.status.idle": "2024-01-29T16:50:27.510918Z",
          "shell.execute_reply": "2024-01-29T16:50:27.509955Z"
        },
        "papermill": {
          "duration": 0.369302,
          "end_time": "2024-01-29T16:50:27.513083",
          "exception": false,
          "start_time": "2024-01-29T16:50:27.143781",
          "status": "completed"
        },
        "tags": [],
        "id": "b149474f",
        "outputId": "841054a6-ac9b-48e1-b753-db19e9f0aae9"
      },
      "outputs": [
        {
          "data": {
            "text/plain": [
              "Dataset({\n",
              "    features: ['abstract', 'title'],\n",
              "    num_rows: 135000\n",
              "})"
            ]
          },
          "execution_count": 5,
          "metadata": {},
          "output_type": "execute_result"
        }
      ],
      "source": [
        "from datasets import Dataset\n",
        "ds =  Dataset.from_pandas(df)\n",
        "ds"
      ]
    },
    {
      "cell_type": "code",
      "execution_count": null,
      "id": "d8181168",
      "metadata": {
        "execution": {
          "iopub.execute_input": "2024-01-29T16:50:27.536004Z",
          "iopub.status.busy": "2024-01-29T16:50:27.535692Z",
          "iopub.status.idle": "2024-01-29T16:50:27.601576Z",
          "shell.execute_reply": "2024-01-29T16:50:27.600719Z"
        },
        "papermill": {
          "duration": 0.079525,
          "end_time": "2024-01-29T16:50:27.603605",
          "exception": false,
          "start_time": "2024-01-29T16:50:27.524080",
          "status": "completed"
        },
        "tags": [],
        "id": "d8181168",
        "outputId": "79579ca5-683d-4d71-d623-3d361e0fe034"
      },
      "outputs": [
        {
          "data": {
            "text/plain": [
              "DatasetDict({\n",
              "    train: Dataset({\n",
              "        features: ['abstract', 'title'],\n",
              "        num_rows: 121500\n",
              "    })\n",
              "    test: Dataset({\n",
              "        features: ['abstract', 'title'],\n",
              "        num_rows: 13500\n",
              "    })\n",
              "})"
            ]
          },
          "execution_count": 6,
          "metadata": {},
          "output_type": "execute_result"
        }
      ],
      "source": [
        "ds = ds.train_test_split(test_size=0.1)\n",
        "ds"
      ]
    },
    {
      "cell_type": "code",
      "execution_count": null,
      "id": "fcb77919",
      "metadata": {
        "execution": {
          "iopub.execute_input": "2024-01-29T16:50:27.627112Z",
          "iopub.status.busy": "2024-01-29T16:50:27.626490Z",
          "iopub.status.idle": "2024-01-29T16:50:27.635250Z",
          "shell.execute_reply": "2024-01-29T16:50:27.634557Z"
        },
        "papermill": {
          "duration": 0.022327,
          "end_time": "2024-01-29T16:50:27.637028",
          "exception": false,
          "start_time": "2024-01-29T16:50:27.614701",
          "status": "completed"
        },
        "tags": [],
        "id": "fcb77919"
      },
      "outputs": [],
      "source": [
        "SEED = 1234\n",
        "\n",
        "random.seed(SEED)\n",
        "torch.manual_seed(SEED)\n",
        "torch.backends.cudnn.deterministic = True"
      ]
    },
    {
      "cell_type": "code",
      "execution_count": null,
      "id": "cdd48cec",
      "metadata": {
        "execution": {
          "iopub.execute_input": "2024-01-29T16:50:27.660566Z",
          "iopub.status.busy": "2024-01-29T16:50:27.660261Z",
          "iopub.status.idle": "2024-01-29T16:50:29.070536Z",
          "shell.execute_reply": "2024-01-29T16:50:29.069629Z"
        },
        "papermill": {
          "duration": 1.424634,
          "end_time": "2024-01-29T16:50:29.072633",
          "exception": false,
          "start_time": "2024-01-29T16:50:27.647999",
          "status": "completed"
        },
        "tags": [],
        "colab": {
          "referenced_widgets": [
            "d4b7396e663642e1a4b526ee67abf300",
            "06ec22f65eeb474aac631c37745bbe86",
            "351e9be9b38c4f73bf5f736a54e7d8cb"
          ]
        },
        "id": "cdd48cec",
        "outputId": "89ca43a7-33b7-4771-f287-4465fb853cf0"
      },
      "outputs": [
        {
          "data": {
            "application/vnd.jupyter.widget-view+json": {
              "model_id": "d4b7396e663642e1a4b526ee67abf300",
              "version_major": 2,
              "version_minor": 0
            },
            "text/plain": [
              "tokenizer_config.json:   0%|          | 0.00/2.32k [00:00<?, ?B/s]"
            ]
          },
          "metadata": {},
          "output_type": "display_data"
        },
        {
          "data": {
            "application/vnd.jupyter.widget-view+json": {
              "model_id": "06ec22f65eeb474aac631c37745bbe86",
              "version_major": 2,
              "version_minor": 0
            },
            "text/plain": [
              "spiece.model:   0%|          | 0.00/792k [00:00<?, ?B/s]"
            ]
          },
          "metadata": {},
          "output_type": "display_data"
        },
        {
          "data": {
            "application/vnd.jupyter.widget-view+json": {
              "model_id": "351e9be9b38c4f73bf5f736a54e7d8cb",
              "version_major": 2,
              "version_minor": 0
            },
            "text/plain": [
              "tokenizer.json:   0%|          | 0.00/1.39M [00:00<?, ?B/s]"
            ]
          },
          "metadata": {},
          "output_type": "display_data"
        },
        {
          "name": "stderr",
          "output_type": "stream",
          "text": [
            "You are using the default legacy behaviour of the <class 'transformers.models.t5.tokenization_t5.T5Tokenizer'>. This is expected, and simply means that the `legacy` (previous) behavior will be used so nothing changes for you. If you want to use the new behaviour, set `legacy=False`. This should only be set if you understand what it means, and thouroughly read the reason why this was added as explained in https://github.com/huggingface/transformers/pull/24565\n",
            "Special tokens have been added in the vocabulary, make sure the associated word embeddings are fine-tuned or trained.\n"
          ]
        }
      ],
      "source": [
        "tokenizer = T5Tokenizer.from_pretrained(\"t5-small\")\n"
      ]
    },
    {
      "cell_type": "code",
      "execution_count": null,
      "id": "9298433f",
      "metadata": {
        "execution": {
          "iopub.execute_input": "2024-01-29T16:50:29.134315Z",
          "iopub.status.busy": "2024-01-29T16:50:29.133634Z",
          "iopub.status.idle": "2024-01-29T16:50:29.138151Z",
          "shell.execute_reply": "2024-01-29T16:50:29.137239Z"
        },
        "papermill": {
          "duration": 0.02171,
          "end_time": "2024-01-29T16:50:29.140241",
          "exception": false,
          "start_time": "2024-01-29T16:50:29.118531",
          "status": "completed"
        },
        "tags": [],
        "id": "9298433f"
      },
      "outputs": [],
      "source": [
        "dataset_train = ds['train']\n",
        "dataset_valid = ds['test']"
      ]
    },
    {
      "cell_type": "code",
      "execution_count": null,
      "id": "99fc4cc5",
      "metadata": {
        "execution": {
          "iopub.execute_input": "2024-01-29T16:50:29.168970Z",
          "iopub.status.busy": "2024-01-29T16:50:29.168543Z",
          "iopub.status.idle": "2024-01-29T16:54:32.028822Z",
          "shell.execute_reply": "2024-01-29T16:54:32.028022Z"
        },
        "papermill": {
          "duration": 242.876998,
          "end_time": "2024-01-29T16:54:32.030804",
          "exception": false,
          "start_time": "2024-01-29T16:50:29.153806",
          "status": "completed"
        },
        "tags": [],
        "id": "99fc4cc5"
      },
      "outputs": [],
      "source": [
        "# Function to convert text data into model inputs and targets\n",
        "def preprocess_function(examples):\n",
        "    inputs = [f\"summarize: {article}\" for article in examples['abstract']]\n",
        "    model_inputs = tokenizer(\n",
        "        inputs,\n",
        "        max_length=1024,\n",
        "        truncation=True,\n",
        "        padding='max_length'\n",
        "    )\n",
        "\n",
        "    # Set up the tokenizer for targets\n",
        "    targets = [summary for summary in examples['title']]\n",
        "    with tokenizer.as_target_tokenizer():\n",
        "        labels = tokenizer(\n",
        "            targets,\n",
        "            max_length=128,\n",
        "            truncation=True,\n",
        "            padding='max_length'\n",
        "        )\n",
        "\n",
        "    model_inputs[\"labels\"] = labels[\"input_ids\"]\n",
        "    return model_inputs\n",
        "\n",
        "# Apply the function to the whole dataset\n",
        "tokenized_train = dataset_train.map(\n",
        "    preprocess_function,\n",
        "    batched=True,\n",
        "\n",
        ")\n",
        "tokenized_valid = dataset_valid.map(\n",
        "    preprocess_function,\n",
        "    batched=True,\n",
        "\n",
        ")"
      ]
    },
    {
      "cell_type": "code",
      "execution_count": null,
      "id": "6b87b2b5",
      "metadata": {
        "execution": {
          "iopub.execute_input": "2024-01-29T16:54:32.056632Z",
          "iopub.status.busy": "2024-01-29T16:54:32.056319Z",
          "iopub.status.idle": "2024-01-29T16:54:33.321347Z",
          "shell.execute_reply": "2024-01-29T16:54:33.320366Z"
        },
        "papermill": {
          "duration": 1.280134,
          "end_time": "2024-01-29T16:54:33.323662",
          "exception": false,
          "start_time": "2024-01-29T16:54:32.043528",
          "status": "completed"
        },
        "tags": [],
        "id": "6b87b2b5"
      },
      "outputs": [],
      "source": [
        "rouge = evaluate.load(\"rouge\")"
      ]
    },
    {
      "cell_type": "code",
      "execution_count": null,
      "id": "e4f66b5c",
      "metadata": {
        "execution": {
          "iopub.execute_input": "2024-01-29T16:54:33.350455Z",
          "iopub.status.busy": "2024-01-29T16:54:33.350136Z",
          "iopub.status.idle": "2024-01-29T16:54:35.624427Z",
          "shell.execute_reply": "2024-01-29T16:54:35.623515Z"
        },
        "papermill": {
          "duration": 2.289908,
          "end_time": "2024-01-29T16:54:35.626382",
          "exception": false,
          "start_time": "2024-01-29T16:54:33.336474",
          "status": "completed"
        },
        "tags": [],
        "id": "e4f66b5c",
        "outputId": "cb4a84d1-9501-4072-9e6d-930c6460c343"
      },
      "outputs": [
        {
          "data": {
            "text/plain": [
              "T5ForConditionalGeneration(\n",
              "  (shared): Embedding(32128, 512)\n",
              "  (encoder): T5Stack(\n",
              "    (embed_tokens): Embedding(32128, 512)\n",
              "    (block): ModuleList(\n",
              "      (0): T5Block(\n",
              "        (layer): ModuleList(\n",
              "          (0): T5LayerSelfAttention(\n",
              "            (SelfAttention): T5Attention(\n",
              "              (q): Linear(in_features=512, out_features=512, bias=False)\n",
              "              (k): Linear(in_features=512, out_features=512, bias=False)\n",
              "              (v): Linear(in_features=512, out_features=512, bias=False)\n",
              "              (o): Linear(in_features=512, out_features=512, bias=False)\n",
              "              (relative_attention_bias): Embedding(32, 8)\n",
              "            )\n",
              "            (layer_norm): T5LayerNorm()\n",
              "            (dropout): Dropout(p=0.1, inplace=False)\n",
              "          )\n",
              "          (1): T5LayerFF(\n",
              "            (DenseReluDense): T5DenseActDense(\n",
              "              (wi): Linear(in_features=512, out_features=2048, bias=False)\n",
              "              (wo): Linear(in_features=2048, out_features=512, bias=False)\n",
              "              (dropout): Dropout(p=0.1, inplace=False)\n",
              "              (act): ReLU()\n",
              "            )\n",
              "            (layer_norm): T5LayerNorm()\n",
              "            (dropout): Dropout(p=0.1, inplace=False)\n",
              "          )\n",
              "        )\n",
              "      )\n",
              "      (1-5): 5 x T5Block(\n",
              "        (layer): ModuleList(\n",
              "          (0): T5LayerSelfAttention(\n",
              "            (SelfAttention): T5Attention(\n",
              "              (q): Linear(in_features=512, out_features=512, bias=False)\n",
              "              (k): Linear(in_features=512, out_features=512, bias=False)\n",
              "              (v): Linear(in_features=512, out_features=512, bias=False)\n",
              "              (o): Linear(in_features=512, out_features=512, bias=False)\n",
              "            )\n",
              "            (layer_norm): T5LayerNorm()\n",
              "            (dropout): Dropout(p=0.1, inplace=False)\n",
              "          )\n",
              "          (1): T5LayerFF(\n",
              "            (DenseReluDense): T5DenseActDense(\n",
              "              (wi): Linear(in_features=512, out_features=2048, bias=False)\n",
              "              (wo): Linear(in_features=2048, out_features=512, bias=False)\n",
              "              (dropout): Dropout(p=0.1, inplace=False)\n",
              "              (act): ReLU()\n",
              "            )\n",
              "            (layer_norm): T5LayerNorm()\n",
              "            (dropout): Dropout(p=0.1, inplace=False)\n",
              "          )\n",
              "        )\n",
              "      )\n",
              "    )\n",
              "    (final_layer_norm): T5LayerNorm()\n",
              "    (dropout): Dropout(p=0.1, inplace=False)\n",
              "  )\n",
              "  (decoder): T5Stack(\n",
              "    (embed_tokens): Embedding(32128, 512)\n",
              "    (block): ModuleList(\n",
              "      (0): T5Block(\n",
              "        (layer): ModuleList(\n",
              "          (0): T5LayerSelfAttention(\n",
              "            (SelfAttention): T5Attention(\n",
              "              (q): Linear(in_features=512, out_features=512, bias=False)\n",
              "              (k): Linear(in_features=512, out_features=512, bias=False)\n",
              "              (v): Linear(in_features=512, out_features=512, bias=False)\n",
              "              (o): Linear(in_features=512, out_features=512, bias=False)\n",
              "              (relative_attention_bias): Embedding(32, 8)\n",
              "            )\n",
              "            (layer_norm): T5LayerNorm()\n",
              "            (dropout): Dropout(p=0.1, inplace=False)\n",
              "          )\n",
              "          (1): T5LayerCrossAttention(\n",
              "            (EncDecAttention): T5Attention(\n",
              "              (q): Linear(in_features=512, out_features=512, bias=False)\n",
              "              (k): Linear(in_features=512, out_features=512, bias=False)\n",
              "              (v): Linear(in_features=512, out_features=512, bias=False)\n",
              "              (o): Linear(in_features=512, out_features=512, bias=False)\n",
              "            )\n",
              "            (layer_norm): T5LayerNorm()\n",
              "            (dropout): Dropout(p=0.1, inplace=False)\n",
              "          )\n",
              "          (2): T5LayerFF(\n",
              "            (DenseReluDense): T5DenseActDense(\n",
              "              (wi): Linear(in_features=512, out_features=2048, bias=False)\n",
              "              (wo): Linear(in_features=2048, out_features=512, bias=False)\n",
              "              (dropout): Dropout(p=0.1, inplace=False)\n",
              "              (act): ReLU()\n",
              "            )\n",
              "            (layer_norm): T5LayerNorm()\n",
              "            (dropout): Dropout(p=0.1, inplace=False)\n",
              "          )\n",
              "        )\n",
              "      )\n",
              "      (1-5): 5 x T5Block(\n",
              "        (layer): ModuleList(\n",
              "          (0): T5LayerSelfAttention(\n",
              "            (SelfAttention): T5Attention(\n",
              "              (q): Linear(in_features=512, out_features=512, bias=False)\n",
              "              (k): Linear(in_features=512, out_features=512, bias=False)\n",
              "              (v): Linear(in_features=512, out_features=512, bias=False)\n",
              "              (o): Linear(in_features=512, out_features=512, bias=False)\n",
              "            )\n",
              "            (layer_norm): T5LayerNorm()\n",
              "            (dropout): Dropout(p=0.1, inplace=False)\n",
              "          )\n",
              "          (1): T5LayerCrossAttention(\n",
              "            (EncDecAttention): T5Attention(\n",
              "              (q): Linear(in_features=512, out_features=512, bias=False)\n",
              "              (k): Linear(in_features=512, out_features=512, bias=False)\n",
              "              (v): Linear(in_features=512, out_features=512, bias=False)\n",
              "              (o): Linear(in_features=512, out_features=512, bias=False)\n",
              "            )\n",
              "            (layer_norm): T5LayerNorm()\n",
              "            (dropout): Dropout(p=0.1, inplace=False)\n",
              "          )\n",
              "          (2): T5LayerFF(\n",
              "            (DenseReluDense): T5DenseActDense(\n",
              "              (wi): Linear(in_features=512, out_features=2048, bias=False)\n",
              "              (wo): Linear(in_features=2048, out_features=512, bias=False)\n",
              "              (dropout): Dropout(p=0.1, inplace=False)\n",
              "              (act): ReLU()\n",
              "            )\n",
              "            (layer_norm): T5LayerNorm()\n",
              "            (dropout): Dropout(p=0.1, inplace=False)\n",
              "          )\n",
              "        )\n",
              "      )\n",
              "    )\n",
              "    (final_layer_norm): T5LayerNorm()\n",
              "    (dropout): Dropout(p=0.1, inplace=False)\n",
              "  )\n",
              "  (lm_head): Linear(in_features=512, out_features=32128, bias=False)\n",
              ")"
            ]
          },
          "execution_count": 13,
          "metadata": {},
          "output_type": "execute_result"
        }
      ],
      "source": [
        "model = T5ForConditionalGeneration.from_pretrained('t5-small')\n",
        "device = torch.device(\"cuda\" if torch.cuda.is_available() else \"cpu\")\n",
        "model.to(device)\n"
      ]
    },
    {
      "cell_type": "code",
      "execution_count": null,
      "id": "39739c18",
      "metadata": {
        "execution": {
          "iopub.execute_input": "2024-01-29T16:54:35.683919Z",
          "iopub.status.busy": "2024-01-29T16:54:35.683585Z",
          "iopub.status.idle": "2024-01-29T16:54:36.070782Z",
          "shell.execute_reply": "2024-01-29T16:54:36.069847Z"
        },
        "papermill": {
          "duration": 0.402737,
          "end_time": "2024-01-29T16:54:36.073102",
          "exception": false,
          "start_time": "2024-01-29T16:54:35.670365",
          "status": "completed"
        },
        "tags": [],
        "id": "39739c18"
      },
      "outputs": [],
      "source": [
        "\n",
        "rouge = evaluate.load(\"rouge\")\n",
        "\n",
        "def compute_metrics(eval_pred):\n",
        "    predictions, labels = eval_pred.predictions[0], eval_pred.label_ids\n",
        "\n",
        "    decoded_preds = tokenizer.batch_decode(predictions, skip_special_tokens=True)\n",
        "    labels = np.where(labels != -100, labels, tokenizer.pad_token_id)\n",
        "    decoded_labels = tokenizer.batch_decode(labels, skip_special_tokens=True)\n",
        "\n",
        "    result = rouge.compute(\n",
        "        predictions=decoded_preds,\n",
        "        references=decoded_labels,\n",
        "        use_stemmer=True,\n",
        "        rouge_types=[\n",
        "            'rouge1',\n",
        "            'rouge2',\n",
        "            'rougeL'\n",
        "        ]\n",
        "    )\n",
        "\n",
        "    prediction_lens = [np.count_nonzero(pred != tokenizer.pad_token_id) for pred in predictions]\n",
        "    result[\"gen_len\"] = np.mean(prediction_lens)\n",
        "\n",
        "    return {k: round(v, 4) for k, v in result.items()}"
      ]
    },
    {
      "cell_type": "code",
      "execution_count": null,
      "id": "43af5398",
      "metadata": {
        "execution": {
          "iopub.execute_input": "2024-01-29T16:54:36.099783Z",
          "iopub.status.busy": "2024-01-29T16:54:36.099492Z",
          "iopub.status.idle": "2024-01-29T16:54:36.104338Z",
          "shell.execute_reply": "2024-01-29T16:54:36.103508Z"
        },
        "papermill": {
          "duration": 0.020268,
          "end_time": "2024-01-29T16:54:36.106156",
          "exception": false,
          "start_time": "2024-01-29T16:54:36.085888",
          "status": "completed"
        },
        "tags": [],
        "id": "43af5398"
      },
      "outputs": [],
      "source": [
        "def preprocess_logits_for_metrics(logits, labels):\n",
        "    \"\"\"\n",
        "    Original Trainer may have a memory leak.\n",
        "    This is a workaround to avoid storing too many tensors that are not needed.\n",
        "    \"\"\"\n",
        "    pred_ids = torch.argmax(logits[0], dim=-1)\n",
        "    return pred_ids, labels"
      ]
    },
    {
      "cell_type": "code",
      "execution_count": null,
      "id": "fa171a74",
      "metadata": {
        "execution": {
          "iopub.execute_input": "2024-01-29T16:54:36.132169Z",
          "iopub.status.busy": "2024-01-29T16:54:36.131894Z",
          "iopub.status.idle": "2024-01-29T16:54:36.166327Z",
          "shell.execute_reply": "2024-01-29T16:54:36.165618Z"
        },
        "papermill": {
          "duration": 0.049623,
          "end_time": "2024-01-29T16:54:36.168151",
          "exception": false,
          "start_time": "2024-01-29T16:54:36.118528",
          "status": "completed"
        },
        "tags": [],
        "id": "fa171a74"
      },
      "outputs": [],
      "source": [
        "training_args = TrainingArguments(\n",
        "    output_dir='/kaggle/working/' ,\n",
        "    num_train_epochs=10,\n",
        "    per_device_train_batch_size=4,\n",
        "    per_device_eval_batch_size=4,\n",
        "    warmup_steps=500,\n",
        "    weight_decay=0.01,\n",
        "    evaluation_strategy='epoch',\n",
        "    save_strategy='epoch',\n",
        "    save_total_limit=2,\n",
        "    report_to='tensorboard',\n",
        "    learning_rate=0.0001,\n",
        "    dataloader_num_workers=4\n",
        ")\n",
        "\n",
        "trainer = Trainer(\n",
        "    model=model,\n",
        "    args=training_args,\n",
        "    train_dataset=tokenized_train,\n",
        "    eval_dataset=tokenized_valid,\n",
        "    preprocess_logits_for_metrics=preprocess_logits_for_metrics,\n",
        "    compute_metrics=compute_metrics\n",
        ")\n",
        ""
      ]
    },
    {
      "cell_type": "code",
      "execution_count": null,
      "id": "2973f08e",
      "metadata": {
        "execution": {
          "iopub.execute_input": "2024-01-29T16:54:36.225964Z",
          "iopub.status.busy": "2024-01-29T16:54:36.225631Z",
          "iopub.status.idle": "2024-01-29T23:07:13.060367Z",
          "shell.execute_reply": "2024-01-29T23:07:13.059348Z"
        },
        "papermill": {
          "duration": 22356.850467,
          "end_time": "2024-01-29T23:07:13.062719",
          "exception": false,
          "start_time": "2024-01-29T16:54:36.212252",
          "status": "completed"
        },
        "tags": [],
        "id": "2973f08e"
      },
      "outputs": [],
      "source": [
        "it2 = trainer.train()"
      ]
    },
    {
      "cell_type": "code",
      "execution_count": null,
      "id": "8ff45c0a",
      "metadata": {
        "execution": {
          "iopub.execute_input": "2024-01-29T23:07:13.091152Z",
          "iopub.status.busy": "2024-01-29T23:07:13.090827Z",
          "iopub.status.idle": "2024-01-29T23:07:14.399970Z",
          "shell.execute_reply": "2024-01-29T23:07:14.399107Z"
        },
        "papermill": {
          "duration": 1.324998,
          "end_time": "2024-01-29T23:07:14.401921",
          "exception": false,
          "start_time": "2024-01-29T23:07:13.076923",
          "status": "completed"
        },
        "tags": [],
        "id": "8ff45c0a",
        "outputId": "a6a07da7-7133-4e82-8ff7-bacf65746c4a"
      },
      "outputs": [
        {
          "data": {
            "text/plain": [
              "'we consider the problem of utility maximization for investors with power utility functions. building on the earlier work larsen et al. (2016), we prove that the value of the problem is a frechet-differentiable function of the drift of the price process, provided that this drift lies in a suitable banach space.   we then study optimal investment problems with non-markovian driving processes. in such models there is no hope to get a formula for the achievable maximal utility. applying results of the first part of the paper we provide first order expansions for certain problems involving fractional brownian motion either in the drift or in the volatility. we also point out how asymptotic results can be derived for models with strong mean reversion.'"
            ]
          },
          "execution_count": 20,
          "metadata": {},
          "output_type": "execute_result"
        }
      ],
      "source": [
        "text = pd.read_csv('/kaggle/input/title-generation/train.csv')\n",
        "text.loc[0, 'abstract']"
      ]
    },
    {
      "cell_type": "code",
      "execution_count": null,
      "id": "1d25cc1f",
      "metadata": {
        "execution": {
          "iopub.execute_input": "2024-01-29T23:07:14.429371Z",
          "iopub.status.busy": "2024-01-29T23:07:14.429066Z",
          "iopub.status.idle": "2024-01-29T23:07:14.436172Z",
          "shell.execute_reply": "2024-01-29T23:07:14.435337Z"
        },
        "papermill": {
          "duration": 0.023152,
          "end_time": "2024-01-29T23:07:14.438306",
          "exception": false,
          "start_time": "2024-01-29T23:07:14.415154",
          "status": "completed"
        },
        "tags": [],
        "id": "1d25cc1f",
        "outputId": "4c11a125-dcdf-485b-fc85-1c1df5dccbae"
      },
      "outputs": [
        {
          "data": {
            "text/plain": [
              "abstract    we consider the problem of utility maximizatio...\n",
              "title       on optimal investment with processes of long o...\n",
              "Name: 0, dtype: object"
            ]
          },
          "execution_count": 21,
          "metadata": {},
          "output_type": "execute_result"
        }
      ],
      "source": [
        "text.iloc[0, :]"
      ]
    },
    {
      "cell_type": "code",
      "execution_count": null,
      "id": "29acb15a",
      "metadata": {
        "execution": {
          "iopub.execute_input": "2024-01-29T23:07:14.491719Z",
          "iopub.status.busy": "2024-01-29T23:07:14.491456Z",
          "iopub.status.idle": "2024-01-29T23:07:14.496728Z",
          "shell.execute_reply": "2024-01-29T23:07:14.495897Z"
        },
        "papermill": {
          "duration": 0.020849,
          "end_time": "2024-01-29T23:07:14.498558",
          "exception": false,
          "start_time": "2024-01-29T23:07:14.477709",
          "status": "completed"
        },
        "tags": [],
        "id": "29acb15a"
      },
      "outputs": [],
      "source": [
        "def summarize_text(text, model, tokenizer, max_length=512, num_beams=5):\n",
        "    # Preprocess the text\n",
        "    inputs = tokenizer.encode(\n",
        "        \"summarize: \" + text,\n",
        "        return_tensors='pt',\n",
        "        max_length=max_length,\n",
        "        truncation=True\n",
        "    )\n",
        "\n",
        "    # Generate the summary\n",
        "    model.to('cpu')\n",
        "    summary_ids = model.generate(\n",
        "        inputs,\n",
        "        max_length=50,\n",
        "        num_beams=num_beams,\n",
        "\n",
        "    )\n",
        "\n",
        "    # Decode and return the summary\n",
        "    return tokenizer.decode(summary_ids[0], skip_special_tokens=True)"
      ]
    },
    {
      "cell_type": "code",
      "execution_count": null,
      "id": "f4a382ab",
      "metadata": {
        "execution": {
          "iopub.execute_input": "2024-01-29T23:07:14.525713Z",
          "iopub.status.busy": "2024-01-29T23:07:14.525457Z",
          "iopub.status.idle": "2024-01-29T23:07:15.431708Z",
          "shell.execute_reply": "2024-01-29T23:07:15.430771Z"
        },
        "papermill": {
          "duration": 0.922038,
          "end_time": "2024-01-29T23:07:15.433811",
          "exception": false,
          "start_time": "2024-01-29T23:07:14.511773",
          "status": "completed"
        },
        "tags": [],
        "id": "f4a382ab",
        "outputId": "8fdd993d-48d0-4541-86ba-3173ce2652ed"
      },
      "outputs": [
        {
          "data": {
            "text/plain": [
              "'the boolean number of ferrers graphs'"
            ]
          },
          "execution_count": 23,
          "metadata": {},
          "output_type": "execute_result"
        }
      ],
      "source": [
        "summarize_text(text.loc[1,'abstract'], model, tokenizer)"
      ]
    },
    {
      "cell_type": "code",
      "execution_count": null,
      "id": "7d15096e",
      "metadata": {
        "execution": {
          "iopub.execute_input": "2024-01-29T23:07:15.462507Z",
          "iopub.status.busy": "2024-01-29T23:07:15.461845Z",
          "iopub.status.idle": "2024-01-29T23:07:15.467708Z",
          "shell.execute_reply": "2024-01-29T23:07:15.466908Z"
        },
        "papermill": {
          "duration": 0.021904,
          "end_time": "2024-01-29T23:07:15.469483",
          "exception": false,
          "start_time": "2024-01-29T23:07:15.447579",
          "status": "completed"
        },
        "tags": [],
        "id": "7d15096e",
        "outputId": "42da7e9b-c038-4ef7-db5f-322cdc2b66df"
      },
      "outputs": [
        {
          "data": {
            "text/plain": [
              "'boolean complexes for ferrers graphs'"
            ]
          },
          "execution_count": 24,
          "metadata": {},
          "output_type": "execute_result"
        }
      ],
      "source": [
        "text.loc[1,'title']"
      ]
    },
    {
      "cell_type": "markdown",
      "id": "b4f2b4bc",
      "metadata": {
        "papermill": {
          "duration": 0.013236,
          "end_time": "2024-01-29T23:07:15.655277",
          "exception": false,
          "start_time": "2024-01-29T23:07:15.642041",
          "status": "completed"
        },
        "tags": [],
        "id": "b4f2b4bc"
      },
      "source": [
        "### Делаем submission в Kaggle"
      ]
    },
    {
      "cell_type": "code",
      "execution_count": null,
      "id": "87a7e9eb",
      "metadata": {
        "execution": {
          "iopub.execute_input": "2024-01-29T23:07:15.683209Z",
          "iopub.status.busy": "2024-01-29T23:07:15.682901Z",
          "iopub.status.idle": "2024-01-29T23:07:15.727835Z",
          "shell.execute_reply": "2024-01-29T23:07:15.727115Z"
        },
        "papermill": {
          "duration": 0.060976,
          "end_time": "2024-01-29T23:07:15.729671",
          "exception": false,
          "start_time": "2024-01-29T23:07:15.668695",
          "status": "completed"
        },
        "tags": [],
        "id": "87a7e9eb"
      },
      "outputs": [],
      "source": [
        "import pandas as pd\n",
        "\n",
        "submission_data = pd.read_csv('/kaggle/input/title-generation/test.csv')\n",
        "abstracts = submission_data['abstract'].values"
      ]
    },
    {
      "cell_type": "code",
      "execution_count": null,
      "id": "640603a0",
      "metadata": {
        "execution": {
          "iopub.execute_input": "2024-01-29T23:07:15.758628Z",
          "iopub.status.busy": "2024-01-29T23:07:15.758295Z",
          "iopub.status.idle": "2024-01-29T23:21:32.808695Z",
          "shell.execute_reply": "2024-01-29T23:21:32.807809Z"
        },
        "papermill": {
          "duration": 857.067932,
          "end_time": "2024-01-29T23:21:32.811287",
          "exception": false,
          "start_time": "2024-01-29T23:07:15.743355",
          "status": "completed"
        },
        "tags": [],
        "id": "640603a0"
      },
      "outputs": [],
      "source": [
        "submission_data['title'] = submission_data['abstract'].apply(lambda x:summarize_text(x, model, tokenizer))"
      ]
    },
    {
      "cell_type": "code",
      "execution_count": null,
      "id": "8d94905c",
      "metadata": {
        "execution": {
          "iopub.execute_input": "2024-01-29T23:21:32.842058Z",
          "iopub.status.busy": "2024-01-29T23:21:32.841704Z",
          "iopub.status.idle": "2024-01-29T23:21:32.857743Z",
          "shell.execute_reply": "2024-01-29T23:21:32.856778Z"
        },
        "papermill": {
          "duration": 0.033872,
          "end_time": "2024-01-29T23:21:32.859632",
          "exception": false,
          "start_time": "2024-01-29T23:21:32.825760",
          "status": "completed"
        },
        "tags": [],
        "id": "8d94905c",
        "outputId": "3833b370-ef60-4b5b-84ff-cdf44f12698b"
      },
      "outputs": [
        {
          "data": {
            "text/html": [
              "<div>\n",
              "<style scoped>\n",
              "    .dataframe tbody tr th:only-of-type {\n",
              "        vertical-align: middle;\n",
              "    }\n",
              "\n",
              "    .dataframe tbody tr th {\n",
              "        vertical-align: top;\n",
              "    }\n",
              "\n",
              "    .dataframe thead th {\n",
              "        text-align: right;\n",
              "    }\n",
              "</style>\n",
              "<table border=\"1\" class=\"dataframe\">\n",
              "  <thead>\n",
              "    <tr style=\"text-align: right;\">\n",
              "      <th></th>\n",
              "      <th>abstract</th>\n",
              "      <th>title</th>\n",
              "    </tr>\n",
              "  </thead>\n",
              "  <tbody>\n",
              "    <tr>\n",
              "      <th>0</th>\n",
              "      <td>Most sequence transformation models use recurr...</td>\n",
              "      <td>recurrent and convolutional neural networks fo...</td>\n",
              "    </tr>\n",
              "    <tr>\n",
              "      <th>1</th>\n",
              "      <td>The doc2vec approach was introduced as an exte...</td>\n",
              "      <td>a rigorous empirical evaluation of doc2vec</td>\n",
              "    </tr>\n",
              "    <tr>\n",
              "      <th>2</th>\n",
              "      <td>LSTM models can vary greatly depending on sequ...</td>\n",
              "      <td>bidirectional sequence tagging with conditiona...</td>\n",
              "    </tr>\n",
              "    <tr>\n",
              "      <th>3</th>\n",
              "      <td>A joint learning process of alignment and tran...</td>\n",
              "      <td>vanilla attention-based translation</td>\n",
              "    </tr>\n",
              "    <tr>\n",
              "      <th>4</th>\n",
              "      <td>Current unsupervised image-to-image translatio...</td>\n",
              "      <td>unsupervised image-to-image translation</td>\n",
              "    </tr>\n",
              "  </tbody>\n",
              "</table>\n",
              "</div>"
            ],
            "text/plain": [
              "                                            abstract  \\\n",
              "0  Most sequence transformation models use recurr...   \n",
              "1  The doc2vec approach was introduced as an exte...   \n",
              "2  LSTM models can vary greatly depending on sequ...   \n",
              "3  A joint learning process of alignment and tran...   \n",
              "4  Current unsupervised image-to-image translatio...   \n",
              "\n",
              "                                               title  \n",
              "0  recurrent and convolutional neural networks fo...  \n",
              "1         a rigorous empirical evaluation of doc2vec  \n",
              "2  bidirectional sequence tagging with conditiona...  \n",
              "3                vanilla attention-based translation  \n",
              "4            unsupervised image-to-image translation  "
            ]
          },
          "execution_count": 31,
          "metadata": {},
          "output_type": "execute_result"
        }
      ],
      "source": [
        "submission_data.head()"
      ]
    },
    {
      "cell_type": "code",
      "execution_count": null,
      "id": "a15bcf7a",
      "metadata": {
        "execution": {
          "iopub.execute_input": "2024-01-29T23:21:32.889115Z",
          "iopub.status.busy": "2024-01-29T23:21:32.888766Z",
          "iopub.status.idle": "2024-01-29T23:21:32.942732Z",
          "shell.execute_reply": "2024-01-29T23:21:32.941871Z"
        },
        "papermill": {
          "duration": 0.071,
          "end_time": "2024-01-29T23:21:32.944828",
          "exception": false,
          "start_time": "2024-01-29T23:21:32.873828",
          "status": "completed"
        },
        "tags": [],
        "id": "a15bcf7a"
      },
      "outputs": [],
      "source": [
        "submission_data.to_csv('predicted_titles.csv', index=False)"
      ]
    },
    {
      "cell_type": "markdown",
      "id": "7dcfa075",
      "metadata": {
        "papermill": {
          "duration": 0.013411,
          "end_time": "2024-01-29T23:21:33.100520",
          "exception": false,
          "start_time": "2024-01-29T23:21:33.087109",
          "status": "completed"
        },
        "tags": [],
        "id": "7dcfa075"
      },
      "source": [
        "С помощью функции `generate_csv` приводим файл `submission_prediction.csv` в формат, необходимый для посылки в соревнование на Kaggle:"
      ]
    },
    {
      "cell_type": "code",
      "execution_count": null,
      "id": "91034dc6",
      "metadata": {
        "execution": {
          "iopub.execute_input": "2024-01-29T23:21:33.129457Z",
          "iopub.status.busy": "2024-01-29T23:21:33.129125Z",
          "iopub.status.idle": "2024-01-29T23:21:34.095161Z",
          "shell.execute_reply": "2024-01-29T23:21:34.094179Z"
        },
        "papermill": {
          "duration": 0.983502,
          "end_time": "2024-01-29T23:21:34.097655",
          "exception": false,
          "start_time": "2024-01-29T23:21:33.114153",
          "status": "completed"
        },
        "tags": [],
        "id": "91034dc6"
      },
      "outputs": [],
      "source": [
        "import string\n",
        "from nltk.util import ngrams\n",
        "import numpy as np\n",
        "import pandas as pd\n",
        "import pickle\n",
        "\n",
        "\n",
        "def generate_csv(input_file='predicted_titles.csv',\n",
        "                 output_file='submission.csv',\n",
        "                 voc_file='/kaggle/input/title-generation/vocs.pkl'):\n",
        "    '''\n",
        "    Generates file in format required for submitting result to Kaggle\n",
        "\n",
        "    Parameters:\n",
        "        input_file (str) : path to csv file with your predicted titles.\n",
        "                           Should have two fields: abstract and title\n",
        "        output_file (str) : path to output submission file\n",
        "        voc_file (str) : path to voc.pkl file\n",
        "    '''\n",
        "    data = pd.read_csv(input_file)\n",
        "    with open(voc_file, 'rb') as voc_file:\n",
        "        vocs = pickle.load(voc_file)\n",
        "\n",
        "    with open(output_file, 'w') as res_file:\n",
        "        res_file.write('Id,Predict\\n')\n",
        "\n",
        "    output_idx = 0\n",
        "    for row_idx, row in data.iterrows():\n",
        "        trg = row['title']\n",
        "        trg = trg.translate(str.maketrans('', '', string.punctuation)).lower().split()\n",
        "        try:\n",
        "            trg.extend(['_'.join(ngram) for ngram in list(ngrams(trg, 2)) + list(ngrams(trg, 3))])\n",
        "        except RuntimeError:\n",
        "            trg=trg\n",
        "        VOCAB_stoi = vocs[row_idx]\n",
        "        trg_intersection = set(VOCAB_stoi.keys()).intersection(set(trg))\n",
        "        trg_vec = np.zeros(len(VOCAB_stoi))\n",
        "\n",
        "        for word in trg_intersection:\n",
        "            trg_vec[VOCAB_stoi[word]] = 1\n",
        "\n",
        "        with open(output_file, 'a') as res_file:\n",
        "            for is_word in trg_vec:\n",
        "                res_file.write('{0},{1}\\n'.format(output_idx, int(is_word)))\n",
        "                output_idx += 1\n",
        "\n",
        "\n",
        "generate_csv()"
      ]
    },
    {
      "cell_type": "code",
      "execution_count": null,
      "id": "146526b7",
      "metadata": {
        "papermill": {
          "duration": 0.01376,
          "end_time": "2024-01-29T23:21:34.125538",
          "exception": false,
          "start_time": "2024-01-29T23:21:34.111778",
          "status": "completed"
        },
        "tags": [],
        "id": "146526b7"
      },
      "outputs": [],
      "source": []
    }
  ],
  "metadata": {
    "kaggle": {
      "accelerator": "nvidiaTeslaT4",
      "dataSources": [
        {
          "databundleVersionId": 854555,
          "sourceId": 17589,
          "sourceType": "competition"
        },
        {
          "datasetId": 4369404,
          "sourceId": 7503285,
          "sourceType": "datasetVersion"
        },
        {
          "datasetId": 4369450,
          "sourceId": 7503348,
          "sourceType": "datasetVersion"
        },
        {
          "datasetId": 4372160,
          "sourceId": 7507300,
          "sourceType": "datasetVersion"
        },
        {
          "datasetId": 4372190,
          "sourceId": 7507341,
          "sourceType": "datasetVersion"
        },
        {
          "sourceId": 160706221,
          "sourceType": "kernelVersion"
        }
      ],
      "dockerImageVersionId": 30635,
      "isGpuEnabled": true,
      "isInternetEnabled": true,
      "language": "python",
      "sourceType": "notebook"
    },
    "kernelspec": {
      "display_name": "Python 3",
      "language": "python",
      "name": "python3"
    },
    "language_info": {
      "codemirror_mode": {
        "name": "ipython",
        "version": 3
      },
      "file_extension": ".py",
      "mimetype": "text/x-python",
      "name": "python",
      "nbconvert_exporter": "python",
      "pygments_lexer": "ipython3",
      "version": "3.10.12"
    },
    "papermill": {
      "default_parameters": {},
      "duration": 23517.324323,
      "end_time": "2024-01-29T23:21:37.906272",
      "environment_variables": {},
      "exception": null,
      "input_path": "__notebook__.ipynb",
      "output_path": "__notebook__.ipynb",
      "parameters": {},
      "start_time": "2024-01-29T16:49:40.581949",
      "version": "2.4.0"
    },
    "widgets": {
      "application/vnd.jupyter.widget-state+json": {}
    },
    "colab": {
      "provenance": [],
      "include_colab_link": true
    }
  },
  "nbformat": 4,
  "nbformat_minor": 5
}