{
  "metadata": {
    "kernelspec": {
      "language": "python",
      "display_name": "Python 3",
      "name": "python3"
    },
    "language_info": {
      "name": "python",
      "version": "3.10.13",
      "mimetype": "text/x-python",
      "codemirror_mode": {
        "name": "ipython",
        "version": 3
      },
      "pygments_lexer": "ipython3",
      "nbconvert_exporter": "python",
      "file_extension": ".py"
    },
    "kaggle": {
      "accelerator": "none",
      "dataSources": [
        {
          "sourceId": 68893,
          "databundleVersionId": 7648440,
          "sourceType": "competition"
        }
      ],
      "dockerImageVersionId": 30646,
      "isInternetEnabled": true,
      "language": "python",
      "sourceType": "notebook",
      "isGpuEnabled": false
    },
    "colab": {
      "provenance": []
    }
  },
  "nbformat_minor": 0,
  "nbformat": 4,
  "cells": [
    {
      "cell_type": "markdown",
      "source": [
        "Задание по разметке NER выполнено в рамках интенсива Трансформеры в NLP и приложениях от AI Education. В соревновании https://www.kaggle.com/competitions/litbank-ner-2024/overview требовалось побить бейзлайн организаторов без использования моделей-трансформеров.\n",
        "В качестве решения была реализована модель двунаправленной LSTM на эмбеддингах GloVe.  "
      ],
      "metadata": {
        "id": "pwfwmzn8WNLS"
      }
    },
    {
      "cell_type": "code",
      "source": [
        "pip install gensim"
      ],
      "metadata": {
        "execution": {
          "iopub.status.busy": "2024-02-14T07:38:42.462332Z",
          "iopub.execute_input": "2024-02-14T07:38:42.462807Z",
          "iopub.status.idle": "2024-02-14T07:38:57.891525Z",
          "shell.execute_reply.started": "2024-02-14T07:38:42.462777Z",
          "shell.execute_reply": "2024-02-14T07:38:57.889656Z"
        },
        "trusted": true,
        "id": "u7wS3vCNUtQu",
        "outputId": "4ca917b6-8fb9-4c3c-cf8f-eb700a23fd08"
      },
      "execution_count": null,
      "outputs": [
        {
          "name": "stdout",
          "text": "Requirement already satisfied: gensim in /opt/conda/lib/python3.10/site-packages (4.3.2)\nRequirement already satisfied: numpy>=1.18.5 in /opt/conda/lib/python3.10/site-packages (from gensim) (1.24.4)\nRequirement already satisfied: scipy>=1.7.0 in /opt/conda/lib/python3.10/site-packages (from gensim) (1.11.4)\nRequirement already satisfied: smart-open>=1.8.1 in /opt/conda/lib/python3.10/site-packages (from gensim) (6.4.0)\nNote: you may need to restart the kernel to use updated packages.\n",
          "output_type": "stream"
        }
      ]
    },
    {
      "cell_type": "code",
      "source": [
        "import pandas as pd\n",
        "from collections import Counter\n",
        "import fasttext\n",
        "\n",
        "from sklearn.model_selection import train_test_split\n",
        "from sklearn.linear_model import LogisticRegressionCV\n",
        "from sklearn.ensemble import HistGradientBoostingClassifier\n",
        "from sklearn.metrics import accuracy_score, precision_score, recall_score, f1_score, classification_report\n",
        "from sklearn.utils import class_weight\n",
        "\n",
        "#Torch\n",
        "import torch\n",
        "import torch.nn as nn\n",
        "import torch.nn.functional as F\n",
        "import torch.optim as optim\n",
        "from torch.utils.data import (TensorDataset, DataLoader, RandomSampler, SequentialSampler)\n",
        "\n",
        "#BERT\n",
        "from transformers import BertTokenizer\n",
        "from transformers import BertForSequenceClassification, AutoModel\n",
        "from transformers import AdamW\n",
        "from transformers import get_linear_schedule_with_warmup\n",
        "from transformers.modeling_utils import PreTrainedModel\n",
        "\n",
        "import re\n",
        "import numpy as np\n",
        "import math\n",
        "from functools import reduce\n",
        "\n",
        "import time\n",
        "import datetime\n",
        "import warnings\n",
        "from tqdm import tqdm\n",
        "warnings.filterwarnings(\"ignore\", category=FutureWarning)\n",
        "\n",
        "from sklearn.preprocessing import normalize\n",
        "\n",
        "from gensim.models import FastText\n",
        "\n",
        "import time\n",
        "import random\n",
        "import gc"
      ],
      "metadata": {
        "execution": {
          "iopub.status.busy": "2024-02-14T08:14:59.323010Z",
          "iopub.execute_input": "2024-02-14T08:14:59.323443Z",
          "iopub.status.idle": "2024-02-14T08:14:59.333488Z",
          "shell.execute_reply.started": "2024-02-14T08:14:59.323414Z",
          "shell.execute_reply": "2024-02-14T08:14:59.332247Z"
        },
        "trusted": true,
        "id": "npjxlE9RUtQv"
      },
      "execution_count": null,
      "outputs": []
    },
    {
      "cell_type": "code",
      "source": [
        "df = pd.read_csv('/kaggle/input/litbank-ner-2024/train_data_sent.csv',  delimiter='\\t')\n",
        "df.tail(20)"
      ],
      "metadata": {
        "execution": {
          "iopub.status.busy": "2024-02-14T07:39:32.488157Z",
          "iopub.execute_input": "2024-02-14T07:39:32.488808Z",
          "iopub.status.idle": "2024-02-14T07:39:32.676105Z",
          "shell.execute_reply.started": "2024-02-14T07:39:32.488774Z",
          "shell.execute_reply": "2024-02-14T07:39:32.674307Z"
        },
        "trusted": true,
        "id": "_NVwrt-fUtQw",
        "outputId": "7463bcf9-391a-44d5-de84-58f40af3ddc9"
      },
      "execution_count": null,
      "outputs": [
        {
          "execution_count": 4,
          "output_type": "execute_result",
          "data": {
            "text/plain": "            ID        token    tag\n179043  179043  exceptional      O\n179044  179044       nature      O\n179045  179045           of      O\n179046  179046          his      O\n179047  179047   occupation      O\n179048  179048            ,      O\n179049  179049          and      O\n179050  179050          his      O\n179051  179051       advent      O\n179052  179052         from      O\n179053  179053           an      O\n179054  179054      unknown      O\n179055  179055       region      O\n179056  179056       called      O\n179057  179057            \"      O\n179058  179058        North  B-LOC\n179059  179059            '  I-LOC\n179060  179060          ard  I-LOC\n179061  179061            \"      O\n179062  179062            .      O",
            "text/html": "<div>\n<style scoped>\n    .dataframe tbody tr th:only-of-type {\n        vertical-align: middle;\n    }\n\n    .dataframe tbody tr th {\n        vertical-align: top;\n    }\n\n    .dataframe thead th {\n        text-align: right;\n    }\n</style>\n<table border=\"1\" class=\"dataframe\">\n  <thead>\n    <tr style=\"text-align: right;\">\n      <th></th>\n      <th>ID</th>\n      <th>token</th>\n      <th>tag</th>\n    </tr>\n  </thead>\n  <tbody>\n    <tr>\n      <th>179043</th>\n      <td>179043</td>\n      <td>exceptional</td>\n      <td>O</td>\n    </tr>\n    <tr>\n      <th>179044</th>\n      <td>179044</td>\n      <td>nature</td>\n      <td>O</td>\n    </tr>\n    <tr>\n      <th>179045</th>\n      <td>179045</td>\n      <td>of</td>\n      <td>O</td>\n    </tr>\n    <tr>\n      <th>179046</th>\n      <td>179046</td>\n      <td>his</td>\n      <td>O</td>\n    </tr>\n    <tr>\n      <th>179047</th>\n      <td>179047</td>\n      <td>occupation</td>\n      <td>O</td>\n    </tr>\n    <tr>\n      <th>179048</th>\n      <td>179048</td>\n      <td>,</td>\n      <td>O</td>\n    </tr>\n    <tr>\n      <th>179049</th>\n      <td>179049</td>\n      <td>and</td>\n      <td>O</td>\n    </tr>\n    <tr>\n      <th>179050</th>\n      <td>179050</td>\n      <td>his</td>\n      <td>O</td>\n    </tr>\n    <tr>\n      <th>179051</th>\n      <td>179051</td>\n      <td>advent</td>\n      <td>O</td>\n    </tr>\n    <tr>\n      <th>179052</th>\n      <td>179052</td>\n      <td>from</td>\n      <td>O</td>\n    </tr>\n    <tr>\n      <th>179053</th>\n      <td>179053</td>\n      <td>an</td>\n      <td>O</td>\n    </tr>\n    <tr>\n      <th>179054</th>\n      <td>179054</td>\n      <td>unknown</td>\n      <td>O</td>\n    </tr>\n    <tr>\n      <th>179055</th>\n      <td>179055</td>\n      <td>region</td>\n      <td>O</td>\n    </tr>\n    <tr>\n      <th>179056</th>\n      <td>179056</td>\n      <td>called</td>\n      <td>O</td>\n    </tr>\n    <tr>\n      <th>179057</th>\n      <td>179057</td>\n      <td>\"</td>\n      <td>O</td>\n    </tr>\n    <tr>\n      <th>179058</th>\n      <td>179058</td>\n      <td>North</td>\n      <td>B-LOC</td>\n    </tr>\n    <tr>\n      <th>179059</th>\n      <td>179059</td>\n      <td>'</td>\n      <td>I-LOC</td>\n    </tr>\n    <tr>\n      <th>179060</th>\n      <td>179060</td>\n      <td>ard</td>\n      <td>I-LOC</td>\n    </tr>\n    <tr>\n      <th>179061</th>\n      <td>179061</td>\n      <td>\"</td>\n      <td>O</td>\n    </tr>\n    <tr>\n      <th>179062</th>\n      <td>179062</td>\n      <td>.</td>\n      <td>O</td>\n    </tr>\n  </tbody>\n</table>\n</div>"
          },
          "metadata": {}
        }
      ]
    },
    {
      "cell_type": "code",
      "source": [
        "train = df.iloc[:161138, :]\n",
        "val = df.iloc[161138:, :] #около 10%, но так, чтобы не бить предложение\n"
      ],
      "metadata": {
        "execution": {
          "iopub.status.busy": "2024-02-14T07:39:32.677534Z",
          "iopub.execute_input": "2024-02-14T07:39:32.677923Z",
          "iopub.status.idle": "2024-02-14T07:39:32.686886Z",
          "shell.execute_reply.started": "2024-02-14T07:39:32.677864Z",
          "shell.execute_reply": "2024-02-14T07:39:32.685052Z"
        },
        "trusted": true,
        "id": "39Ei5gbdUtQx"
      },
      "execution_count": null,
      "outputs": []
    },
    {
      "cell_type": "code",
      "source": [
        "#Сгруппируем токены обратно в предложения по точке\n",
        "train_sents = []\n",
        "tag_sents = []\n",
        "sent = []\n",
        "tag_sent = []\n",
        "\n",
        "for tok, tag in zip(train.token.values, train.tag.values):\n",
        "\n",
        "    if tok != '.':\n",
        "        sent.append(tok)\n",
        "        tag_sent.append(tag)\n",
        "\n",
        "    else:\n",
        "        sent.append(tok)\n",
        "        train_sents.append(sent)\n",
        "        tag_sent.append(tag)\n",
        "        sent = []\n",
        "        tag_sents.append(tag_sent)\n",
        "        tag_sent = []\n",
        "\n",
        "\n"
      ],
      "metadata": {
        "execution": {
          "iopub.status.busy": "2024-02-14T08:40:20.087345Z",
          "iopub.execute_input": "2024-02-14T08:40:20.088613Z",
          "iopub.status.idle": "2024-02-14T08:40:20.183648Z",
          "shell.execute_reply.started": "2024-02-14T08:40:20.088563Z",
          "shell.execute_reply": "2024-02-14T08:40:20.181809Z"
        },
        "trusted": true,
        "id": "VO1ur00GUtQx"
      },
      "execution_count": null,
      "outputs": []
    },
    {
      "cell_type": "code",
      "source": [
        "val_sents = []\n",
        "val_tag_sents = []\n",
        "sent = []\n",
        "tag_sent = []\n",
        "\n",
        "for tok, tag in zip(val.token.values, val.tag.values):\n",
        "\n",
        "    if tok != '.':\n",
        "        sent.append(tok)\n",
        "        tag_sent.append(tag)\n",
        "\n",
        "    else:\n",
        "        sent.append(tok)\n",
        "        val_sents.append(sent)\n",
        "        sent = []\n",
        "\n",
        "        tag_sent.append(tag)\n",
        "        val_tag_sents.append(tag_sent)\n",
        "        tag_sent = []"
      ],
      "metadata": {
        "execution": {
          "iopub.status.busy": "2024-02-14T09:12:33.320093Z",
          "iopub.execute_input": "2024-02-14T09:12:33.320604Z",
          "iopub.status.idle": "2024-02-14T09:12:33.338881Z",
          "shell.execute_reply.started": "2024-02-14T09:12:33.320572Z",
          "shell.execute_reply": "2024-02-14T09:12:33.337287Z"
        },
        "trusted": true,
        "id": "uIJNG8gmUtQy"
      },
      "execution_count": null,
      "outputs": []
    },
    {
      "cell_type": "code",
      "source": [
        "test = pd.read_csv('/kaggle/input/litbank-ner-2024/test_data_no_labels_sent.csv', delimiter = '\\t')\n",
        "test_sents = []\n",
        "test_id_sents = []\n",
        "sent = []\n",
        "tag_sent = []\n",
        "\n",
        "for ids, tok in zip(test.ID.values, test.token.values):\n",
        "\n",
        "    if tok != '.':\n",
        "        sent.append(tok)\n",
        "        tag_sent.append(ids)\n",
        "\n",
        "    else:\n",
        "        sent.append(tok)\n",
        "        test_sents.append(sent)\n",
        "        tag_sent.append(ids)\n",
        "        sent = []\n",
        "        test_id_sents.append(tag_sent)\n",
        "        tag_sent = []"
      ],
      "metadata": {
        "id": "O68rmCjFUtQy"
      },
      "execution_count": null,
      "outputs": []
    },
    {
      "cell_type": "code",
      "source": [
        "test.tail()"
      ],
      "metadata": {
        "execution": {
          "iopub.status.busy": "2024-02-14T12:46:41.854366Z",
          "iopub.execute_input": "2024-02-14T12:46:41.855073Z",
          "iopub.status.idle": "2024-02-14T12:46:41.874260Z",
          "shell.execute_reply.started": "2024-02-14T12:46:41.855018Z",
          "shell.execute_reply": "2024-02-14T12:46:41.872087Z"
        },
        "trusted": true,
        "id": "IcwuAkjDUtQz",
        "outputId": "bffbee3f-602b-44ac-df7c-58d6013686ef"
      },
      "execution_count": null,
      "outputs": [
        {
          "execution_count": 183,
          "output_type": "execute_result",
          "data": {
            "text/plain": "          ID     token\n31464  31464  shocking\n31465  31465      walk\n31466  31466         .\n31467  31467         ”\n31468  31468         “",
            "text/html": "<div>\n<style scoped>\n    .dataframe tbody tr th:only-of-type {\n        vertical-align: middle;\n    }\n\n    .dataframe tbody tr th {\n        vertical-align: top;\n    }\n\n    .dataframe thead th {\n        text-align: right;\n    }\n</style>\n<table border=\"1\" class=\"dataframe\">\n  <thead>\n    <tr style=\"text-align: right;\">\n      <th></th>\n      <th>ID</th>\n      <th>token</th>\n    </tr>\n  </thead>\n  <tbody>\n    <tr>\n      <th>31464</th>\n      <td>31464</td>\n      <td>shocking</td>\n    </tr>\n    <tr>\n      <th>31465</th>\n      <td>31465</td>\n      <td>walk</td>\n    </tr>\n    <tr>\n      <th>31466</th>\n      <td>31466</td>\n      <td>.</td>\n    </tr>\n    <tr>\n      <th>31467</th>\n      <td>31467</td>\n      <td>”</td>\n    </tr>\n    <tr>\n      <th>31468</th>\n      <td>31468</td>\n      <td>“</td>\n    </tr>\n  </tbody>\n</table>\n</div>"
          },
          "metadata": {}
        }
      ]
    },
    {
      "cell_type": "code",
      "source": [
        "PAD_TAG = \"PAD_TAG\"\n",
        "tagset = set(df.tag.values)\n",
        "tagset.add(PAD_TAG)\n",
        "tagset = list(tagset)"
      ],
      "metadata": {
        "execution": {
          "iopub.status.busy": "2024-02-14T08:41:00.282142Z",
          "iopub.execute_input": "2024-02-14T08:41:00.282652Z",
          "iopub.status.idle": "2024-02-14T08:41:00.294433Z",
          "shell.execute_reply.started": "2024-02-14T08:41:00.282620Z",
          "shell.execute_reply": "2024-02-14T08:41:00.292390Z"
        },
        "trusted": true,
        "id": "R1l-WB4pUtQz"
      },
      "execution_count": null,
      "outputs": []
    },
    {
      "cell_type": "code",
      "source": [
        "ix2tag = dict(enumerate(tagset))\n",
        "tag2ix = {t:ix for ix, t in ix2tag.items()}"
      ],
      "metadata": {
        "execution": {
          "iopub.status.busy": "2024-02-14T07:39:32.793391Z",
          "iopub.execute_input": "2024-02-14T07:39:32.793830Z",
          "iopub.status.idle": "2024-02-14T07:39:32.808757Z",
          "shell.execute_reply.started": "2024-02-14T07:39:32.793796Z",
          "shell.execute_reply": "2024-02-14T07:39:32.807451Z"
        },
        "trusted": true,
        "id": "IEKIsF7VUtQ0"
      },
      "execution_count": null,
      "outputs": []
    },
    {
      "cell_type": "code",
      "source": [
        "ix2tag"
      ],
      "metadata": {
        "execution": {
          "iopub.status.busy": "2024-02-14T07:39:32.810804Z",
          "iopub.execute_input": "2024-02-14T07:39:32.811443Z",
          "iopub.status.idle": "2024-02-14T07:39:32.826648Z",
          "shell.execute_reply.started": "2024-02-14T07:39:32.811405Z",
          "shell.execute_reply": "2024-02-14T07:39:32.824714Z"
        },
        "trusted": true,
        "id": "FOO2AP-lUtQ0",
        "outputId": "19d50cfa-379e-40cb-e7bb-396fc1233883"
      },
      "execution_count": null,
      "outputs": [
        {
          "execution_count": 9,
          "output_type": "execute_result",
          "data": {
            "text/plain": "{0: 'I-PER',\n 1: 'B-PER',\n 2: 'B-ORG',\n 3: 'B-LOC',\n 4: 'O',\n 5: 'I-LOC',\n 6: 'PAD_TAG',\n 7: 'I-ORG'}"
          },
          "metadata": {}
        }
      ]
    },
    {
      "cell_type": "code",
      "source": [
        "ix2tag[4]"
      ],
      "metadata": {
        "execution": {
          "iopub.status.busy": "2024-02-14T12:36:01.280994Z",
          "iopub.execute_input": "2024-02-14T12:36:01.282347Z",
          "iopub.status.idle": "2024-02-14T12:36:01.290398Z",
          "shell.execute_reply.started": "2024-02-14T12:36:01.282263Z",
          "shell.execute_reply": "2024-02-14T12:36:01.288927Z"
        },
        "trusted": true,
        "id": "Q9GDOKqkUtQ1",
        "outputId": "3a703425-4b50-4e27-e851-fea8057fb186"
      },
      "execution_count": null,
      "outputs": [
        {
          "execution_count": 173,
          "output_type": "execute_result",
          "data": {
            "text/plain": "'O'"
          },
          "metadata": {}
        }
      ]
    },
    {
      "cell_type": "code",
      "source": [
        "tag2ix"
      ],
      "metadata": {
        "execution": {
          "iopub.status.busy": "2024-02-14T07:39:32.831043Z",
          "iopub.execute_input": "2024-02-14T07:39:32.831724Z",
          "iopub.status.idle": "2024-02-14T07:39:32.842570Z",
          "shell.execute_reply.started": "2024-02-14T07:39:32.831687Z",
          "shell.execute_reply": "2024-02-14T07:39:32.841075Z"
        },
        "trusted": true,
        "id": "eru2F8bQUtQ1",
        "outputId": "24efa666-4985-4982-c6f2-6e4436299f21"
      },
      "execution_count": null,
      "outputs": [
        {
          "execution_count": 10,
          "output_type": "execute_result",
          "data": {
            "text/plain": "{'I-PER': 0,\n 'B-PER': 1,\n 'B-ORG': 2,\n 'B-LOC': 3,\n 'O': 4,\n 'I-LOC': 5,\n 'PAD_TAG': 6,\n 'I-ORG': 7}"
          },
          "metadata": {}
        }
      ]
    },
    {
      "cell_type": "code",
      "source": [
        "print('train', len(train_sents), len(tag_sents))\n",
        "print('val', len(val_sents), len(val_tag_sents))\n",
        "\n"
      ],
      "metadata": {
        "execution": {
          "iopub.status.busy": "2024-02-14T09:13:36.977244Z",
          "iopub.execute_input": "2024-02-14T09:13:36.977696Z",
          "iopub.status.idle": "2024-02-14T09:13:36.984539Z",
          "shell.execute_reply.started": "2024-02-14T09:13:36.977664Z",
          "shell.execute_reply": "2024-02-14T09:13:36.983352Z"
        },
        "trusted": true,
        "id": "EnJYmxtuUtQ2",
        "outputId": "0fd80fb8-4637-4c06-a9d5-6469299cc5c6"
      },
      "execution_count": null,
      "outputs": [
        {
          "name": "stdout",
          "text": "train 5834 5834\nval 598 598\n",
          "output_type": "stream"
        }
      ]
    },
    {
      "cell_type": "code",
      "source": [
        "#максимальная длина предложения (если делать паддинг)\n",
        "max = len(train_sents[0])\n",
        "for sent in train_sents:\n",
        "\n",
        "    if len(sent) > max:\n",
        "        max = len(sent)\n",
        "print('max', max)"
      ],
      "metadata": {
        "execution": {
          "iopub.status.busy": "2024-02-14T07:39:32.868040Z",
          "iopub.execute_input": "2024-02-14T07:39:32.868444Z",
          "iopub.status.idle": "2024-02-14T07:39:32.875826Z",
          "shell.execute_reply.started": "2024-02-14T07:39:32.868413Z",
          "shell.execute_reply": "2024-02-14T07:39:32.874708Z"
        },
        "trusted": true,
        "id": "br2K0XXXUtQ3",
        "outputId": "0044be62-e111-4a73-b9f1-210af991f1f2"
      },
      "execution_count": null,
      "outputs": [
        {
          "name": "stdout",
          "text": "max 331\n",
          "output_type": "stream"
        }
      ]
    },
    {
      "cell_type": "code",
      "source": [
        "tag2ix"
      ],
      "metadata": {
        "execution": {
          "iopub.status.busy": "2024-02-14T10:09:09.541055Z",
          "iopub.execute_input": "2024-02-14T10:09:09.541502Z",
          "iopub.status.idle": "2024-02-14T10:09:09.549930Z",
          "shell.execute_reply.started": "2024-02-14T10:09:09.541470Z",
          "shell.execute_reply": "2024-02-14T10:09:09.548765Z"
        },
        "trusted": true,
        "id": "MJZhA9mLUtQ3",
        "outputId": "d276cd44-dcfa-4e9e-c5f7-b922efa086a7"
      },
      "execution_count": null,
      "outputs": [
        {
          "execution_count": 124,
          "output_type": "execute_result",
          "data": {
            "text/plain": "{'I-PER': 0,\n 'B-PER': 1,\n 'B-ORG': 2,\n 'B-LOC': 3,\n 'O': 4,\n 'I-LOC': 5,\n 'PAD_TAG': 6,\n 'I-ORG': 7}"
          },
          "metadata": {}
        }
      ]
    },
    {
      "cell_type": "code",
      "source": [
        "train_sent_tags_digitized = [[tag2ix[tag] for tag in sent]\n",
        "                             for sent in tag_sents]\n",
        "val_sent_tags_digitized = [[tag2ix[tag] for tag in sent]\n",
        "                             for sent in val_tag_sents]"
      ],
      "metadata": {
        "execution": {
          "iopub.status.busy": "2024-02-14T09:17:51.624424Z",
          "iopub.execute_input": "2024-02-14T09:17:51.624870Z",
          "iopub.status.idle": "2024-02-14T09:17:52.110638Z",
          "shell.execute_reply.started": "2024-02-14T09:17:51.624833Z",
          "shell.execute_reply": "2024-02-14T09:17:52.109532Z"
        },
        "trusted": true,
        "id": "ovbKTNimUtQ4"
      },
      "execution_count": null,
      "outputs": []
    },
    {
      "cell_type": "code",
      "source": [
        "vocab = set(token for sentence_tokens in train_sents+val_sents+test_sents for token in sentence_tokens)\n",
        "len(vocab)"
      ],
      "metadata": {
        "execution": {
          "iopub.status.busy": "2024-02-14T11:24:14.987693Z",
          "iopub.execute_input": "2024-02-14T11:24:14.988229Z",
          "iopub.status.idle": "2024-02-14T11:24:15.038655Z",
          "shell.execute_reply.started": "2024-02-14T11:24:14.988184Z",
          "shell.execute_reply": "2024-02-14T11:24:15.037314Z"
        },
        "trusted": true,
        "id": "_aubJYInUtQ5",
        "outputId": "46fee240-c90e-4afb-d789-848ac0efa6c3"
      },
      "execution_count": null,
      "outputs": [
        {
          "execution_count": 144,
          "output_type": "execute_result",
          "data": {
            "text/plain": "17868"
          },
          "metadata": {}
        }
      ]
    },
    {
      "cell_type": "code",
      "source": [
        "vocab = list(vocab)\n",
        "ix2word = dict(enumerate(vocab))\n",
        "word2ix = {w:ix for ix, w in ix2word.items()}\n",
        "train_sents_digitized = [[word2ix[tok] for tok in sent_toks]\n",
        "                         for sent_toks in train_sents]\n",
        "val_sents_digitized = [[word2ix[tok] for tok in sent_toks]\n",
        "                         for sent_toks in val_sents]"
      ],
      "metadata": {
        "execution": {
          "iopub.status.busy": "2024-02-14T11:24:24.960691Z",
          "iopub.execute_input": "2024-02-14T11:24:24.961143Z",
          "iopub.status.idle": "2024-02-14T11:24:25.013546Z",
          "shell.execute_reply.started": "2024-02-14T11:24:24.961110Z",
          "shell.execute_reply": "2024-02-14T11:24:25.012148Z"
        },
        "trusted": true,
        "id": "20oIhmVpUtQ5"
      },
      "execution_count": null,
      "outputs": []
    },
    {
      "cell_type": "code",
      "source": [
        "train_data = list(zip(train_sents_digitized, train_sent_tags_digitized))\n",
        "val_data = list(zip(val_sents_digitized, val_sent_tags_digitized))\n",
        "print(train_data[0])"
      ],
      "metadata": {
        "execution": {
          "iopub.status.busy": "2024-02-14T11:24:38.476151Z",
          "iopub.execute_input": "2024-02-14T11:24:38.476825Z",
          "iopub.status.idle": "2024-02-14T11:24:38.489526Z",
          "shell.execute_reply.started": "2024-02-14T11:24:38.476779Z",
          "shell.execute_reply": "2024-02-14T11:24:38.488046Z"
        },
        "trusted": true,
        "id": "wIeZYj2lUtQ6",
        "outputId": "eec57675-99d0-4085-e592-d210d3fc2b18"
      },
      "execution_count": null,
      "outputs": [
        {
          "name": "stdout",
          "text": "([16368, 14769, 9349, 6414, 12802, 12689, 6260, 6239, 17074, 7039, 12574, 1829, 14923, 3422, 3700, 10576, 1709, 9405, 10875, 17074, 8227, 6239, 15887, 1709, 6980, 2631, 15706], [4, 4, 4, 4, 4, 4, 4, 4, 4, 4, 4, 4, 1, 0, 4, 4, 4, 4, 4, 4, 4, 4, 4, 4, 3, 5, 4])\n",
          "output_type": "stream"
        }
      ]
    },
    {
      "cell_type": "code",
      "source": [
        "# download glove and unzip it in Notebook.\n",
        "#!wget http://nlp.stanford.edu/data/glove.6B.zip\n",
        "#!unzip glove*.zip\n",
        "\n"
      ],
      "metadata": {
        "execution": {
          "iopub.status.busy": "2024-02-14T07:40:12.221940Z",
          "iopub.execute_input": "2024-02-14T07:40:12.222384Z",
          "iopub.status.idle": "2024-02-14T07:43:20.554490Z",
          "shell.execute_reply.started": "2024-02-14T07:40:12.222349Z",
          "shell.execute_reply": "2024-02-14T07:43:20.552784Z"
        },
        "trusted": true,
        "id": "DKA6li55UtQ6",
        "outputId": "33547a25-1bc0-4474-ae39-4ba32859aa3f"
      },
      "execution_count": null,
      "outputs": [
        {
          "name": "stdout",
          "text": "--2024-02-14 07:40:13--  http://nlp.stanford.edu/data/glove.6B.zip\nResolving nlp.stanford.edu (nlp.stanford.edu)... 171.64.67.140\nConnecting to nlp.stanford.edu (nlp.stanford.edu)|171.64.67.140|:80... connected.\nHTTP request sent, awaiting response... 302 Found\nLocation: https://nlp.stanford.edu/data/glove.6B.zip [following]\n--2024-02-14 07:40:13--  https://nlp.stanford.edu/data/glove.6B.zip\nConnecting to nlp.stanford.edu (nlp.stanford.edu)|171.64.67.140|:443... connected.\nHTTP request sent, awaiting response... 301 Moved Permanently\nLocation: https://downloads.cs.stanford.edu/nlp/data/glove.6B.zip [following]\n--2024-02-14 07:40:14--  https://downloads.cs.stanford.edu/nlp/data/glove.6B.zip\nResolving downloads.cs.stanford.edu (downloads.cs.stanford.edu)... 171.64.64.22\nConnecting to downloads.cs.stanford.edu (downloads.cs.stanford.edu)|171.64.64.22|:443... connected.\nHTTP request sent, awaiting response... 200 OK\nLength: 862182613 (822M) [application/zip]\nSaving to: 'glove.6B.zip'\n\nglove.6B.zip        100%[===================>] 822.24M  4.63MB/s    in 2m 40s  \n\n2024-02-14 07:42:54 (5.15 MB/s) - 'glove.6B.zip' saved [862182613/862182613]\n\nArchive:  glove.6B.zip\n  inflating: glove.6B.50d.txt        \n  inflating: glove.6B.100d.txt       \n  inflating: glove.6B.200d.txt       \n  inflating: glove.6B.300d.txt       \n",
          "output_type": "stream"
        }
      ]
    },
    {
      "cell_type": "code",
      "source": [
        "# vocab: 'the': 1, mapping of words with\n",
        "# integers in seq. 1,2,3..\n",
        "# embedding: 1->dense vector\n",
        "def embedding_for_vocab(filepath, word_index,\n",
        "                        embedding_dim):\n",
        "    vocab_size = len(word_index) + 1\n",
        "\n",
        "    # Adding again 1 because of reserved 0 index\n",
        "    embedding_matrix_vocab = np.zeros((vocab_size,\n",
        "                                       embedding_dim))\n",
        "\n",
        "    with open(filepath, encoding=\"utf8\") as f:\n",
        "        for line in f:\n",
        "            word, *vector = line.split()\n",
        "            if word in word_index:\n",
        "                idx = word_index[word]\n",
        "                embedding_matrix_vocab[idx] = np.array(\n",
        "                    vector, dtype=np.float32)[:embedding_dim]\n",
        "\n",
        "    return embedding_matrix_vocab\n",
        "\n",
        "# matrix for vocab: word_index\n",
        "embedding_dim = 300\n",
        "embedding_matrix_vocab = embedding_for_vocab(\n",
        "    '/kaggle/working/glove.6B.300d.txt', word2ix,\n",
        "  embedding_dim)\n",
        "\n",
        "print(\"Dense vector for first word is => \",\n",
        "      embedding_matrix_vocab[1])"
      ],
      "metadata": {
        "execution": {
          "iopub.status.busy": "2024-02-14T11:24:45.888853Z",
          "iopub.execute_input": "2024-02-14T11:24:45.889317Z",
          "iopub.status.idle": "2024-02-14T11:24:58.944174Z",
          "shell.execute_reply.started": "2024-02-14T11:24:45.889283Z",
          "shell.execute_reply": "2024-02-14T11:24:58.942740Z"
        },
        "trusted": true,
        "id": "udKl5LonUtQ7",
        "outputId": "cfa52d77-13f7-4045-d5f8-c0442fdf30cf"
      },
      "execution_count": null,
      "outputs": [
        {
          "name": "stdout",
          "text": "Dense vector for first word is =>  [ 1.21100001e-01 -8.81329998e-02 -1.29570007e-01  6.32470012e-01\n  4.22290005e-02  1.88890006e-02 -2.96950012e-01 -2.34740004e-01\n  3.92309994e-01  3.65759999e-01  1.15539998e-01 -2.83270001e-01\n -2.86460012e-01 -1.21930003e-01  2.19909996e-01 -6.96320012e-02\n  3.94970000e-01 -5.80020010e-01 -4.55000013e-01  5.80730021e-01\n  9.03869987e-01  4.42380011e-01  1.17540002e-01  8.07129979e-01\n  2.75000006e-01 -5.70820011e-02  5.25080003e-02 -2.64739990e-01\n  1.04089998e-01 -1.68349996e-01 -3.11129987e-01 -3.14549990e-02\n  1.65529996e-01 -1.25320002e-01 -7.46460021e-01  8.45130009e-04\n -5.38619995e-01  5.00710011e-01 -3.87690008e-01  1.99469998e-01\n  5.70029974e-01 -4.54909988e-02  3.04210000e-02 -2.05880001e-01\n  1.30549997e-01 -1.96319997e-01  5.77049971e-01  1.87560007e-01\n  7.22289979e-02 -1.68939993e-01  3.53590012e-01 -1.14600003e-01\n  2.27599993e-01  1.27220005e-01 -4.04630005e-01  4.21059996e-01\n  9.15279984e-01 -2.09279999e-01  3.36070001e-01  4.20819998e-01\n -2.12320000e-01 -5.58809996e-01  7.55650029e-02  6.23640001e-01\n -1.06689997e-01 -2.29530007e-01 -1.36790007e-01 -2.13459998e-01\n -1.56660005e-01  9.51080024e-02 -3.70449990e-01  1.36779994e-01\n -6.00470006e-01  1.27560005e-01  2.08470002e-01  3.59279990e-01\n -2.94580013e-01 -1.57490000e-01 -1.28999993e-01 -1.41780004e-01\n -9.68740042e-03 -4.66199994e-01  3.58319998e-01  6.64579988e-01\n  1.70530006e-02 -2.70489994e-02  4.19140011e-01 -6.77250028e-02\n -1.40049994e-01  5.69010019e-01  1.73620000e-01  1.51789999e-02\n -8.05390030e-02  1.53760001e-01 -5.63950002e-01 -3.05020005e-01\n  1.02370001e-01 -4.58000004e-01  1.91750005e-01 -2.82110006e-01\n  1.23190001e-01  1.02689996e-01  3.82499993e-01  2.74310005e-03\n -1.65529996e-01  1.89280003e-01  5.42360008e-01 -2.01519996e-01\n -2.85990000e-01  4.24870014e-01 -3.45239997e-01  4.86460000e-01\n -7.76309967e-02  5.20659983e-01  5.58510005e-01  1.47159994e-01\n  2.05960006e-01 -4.25130010e-01 -2.86630005e-01 -1.53990000e-01\n -9.70679998e-01 -3.09439987e-01 -7.34220028e-01  6.46709979e-01\n -1.74190000e-01 -4.86699998e-01 -1.60540000e-01 -1.05140001e-01\n -4.06639993e-01 -3.02769989e-01  4.70479995e-01  3.51440012e-02\n  2.25260004e-01  9.75940004e-02 -7.08959997e-01 -2.64230013e-01\n -2.05329999e-01 -6.12500012e-01 -2.04539999e-01  2.67500013e-01\n  1.47139996e-01 -1.55190006e-01 -3.39320004e-02  4.46269989e-01\n -4.19019997e-01 -3.92899990e-01  2.87900001e-01  3.79660010e-01\n  2.48520002e-01  2.52240002e-02 -1.05570003e-01 -2.52029985e-01\n  1.96199998e-01  5.85009992e-01  3.39080006e-01 -8.16619992e-02\n  3.30819994e-01  1.77239999e-01  4.57080007e-01  1.26929998e-01\n  2.24810004e-01 -9.44769979e-01  1.34819999e-01 -9.97879982e-01\n  8.52829993e-01  2.36699998e-01  4.89129990e-01  1.22749999e-01\n  5.79730012e-02  1.36150002e-01  1.11139998e-01 -5.91179989e-02\n  4.17809993e-01  2.36420006e-01  4.16299999e-01 -9.67340022e-02\n -4.34320003e-01  1.72670007e-01 -1.71470001e-01  2.05320001e-01\n -4.17499989e-01 -7.29080021e-01 -1.38069997e-02 -2.96020001e-01\n -8.27590004e-02  4.96190012e-01  4.03690010e-01  3.46839987e-02\n  2.77500004e-01 -7.20210016e-01  7.38629997e-01 -2.47449994e-01\n  2.66889989e-01 -5.30730009e-01 -4.68409985e-01  1.64010003e-01\n -3.15479994e-01  4.04780000e-01 -9.02810022e-02 -8.72989967e-02\n  4.73019987e-01  3.36730003e-01  1.38860002e-01  3.52039993e-01\n  1.97640002e-01 -2.53589988e-01 -3.43329996e-01 -8.27900022e-02\n -1.17179997e-01 -3.18690002e-01 -7.74070024e-01  5.42570017e-02\n -1.83700002e-03 -7.49270022e-02  2.63859987e-01  3.80849987e-01\n  8.64230022e-02  2.44430006e-01  1.22520000e-01  5.14339983e-01\n -2.51489997e-01  1.27440006e-01 -4.30510014e-01  3.71160001e-01\n  7.75889993e-01  1.24200001e-01  1.48489997e-01 -3.83190006e-01\n -3.26180011e-01 -3.60320002e-01 -2.31339992e-03  3.13219987e-02\n  1.96030006e-01 -9.79150012e-02 -1.26859993e-01 -5.78509986e-01\n -2.81749994e-01 -3.09230000e-01  2.18170002e-01 -9.23089981e-01\n -1.94940001e-01 -2.34760001e-01 -7.52009988e-01  1.73749998e-01\n  1.72140002e-01 -4.08520013e-01  1.68109998e-01  4.79979992e-01\n -3.28500003e-01 -3.65049988e-01 -2.47950003e-01  6.20959997e-01\n  5.68549991e-01  1.25960007e-01 -4.36019987e-01  2.89909989e-01\n  5.58929980e-01  1.96559995e-01  2.85990000e-01  2.10470006e-01\n  6.70279980e-01  3.81960005e-01  3.79090011e-01 -6.72590017e-01\n  4.12719995e-01  2.21910000e-01  5.53889990e-01 -5.46320021e-01\n  4.15520012e-01  6.57209992e-01 -1.56500004e-02  3.70739996e-01\n  1.15369998e-01 -1.43309996e-01  4.61010002e-02  4.86330003e-01\n -4.64159995e-01 -7.54539967e-02 -1.14019997e-02 -1.41800001e-01\n -1.32420003e-01 -4.71460015e-01  1.28879994e-01 -3.87100011e-01\n -7.71249980e-02 -9.28160027e-02 -2.10999995e-01  5.99380016e-01\n  2.65730009e-03 -6.59590006e-01  2.02010006e-01  2.84520000e-01\n  1.32459998e-01 -4.51830000e-01  8.23019966e-02 -4.19209987e-01\n -5.86269982e-02  4.39740002e-01 -2.37489998e-01 -4.85999994e-02]\n",
          "output_type": "stream"
        }
      ]
    },
    {
      "cell_type": "code",
      "source": [
        "pretrained_embeddings = torch.Tensor(embedding_matrix_vocab)"
      ],
      "metadata": {
        "execution": {
          "iopub.status.busy": "2024-02-14T11:24:58.947743Z",
          "iopub.execute_input": "2024-02-14T11:24:58.948173Z",
          "iopub.status.idle": "2024-02-14T11:24:58.963059Z",
          "shell.execute_reply.started": "2024-02-14T11:24:58.948142Z",
          "shell.execute_reply": "2024-02-14T11:24:58.961759Z"
        },
        "trusted": true,
        "id": "u6Nvnd_lUtQ8"
      },
      "execution_count": null,
      "outputs": []
    },
    {
      "cell_type": "code",
      "source": [
        "class LSTMTagger(nn.Module):\n",
        "\n",
        "    def __init__(self, embedding_dim, hidden_dim, vocab_size, tagset_size, pretrained_embeddings):\n",
        "        super(LSTMTagger, self).__init__()\n",
        "\n",
        "        self.hidden_dim      = hidden_dim\n",
        "        self.word_embeddings = nn.Embedding.from_pretrained(pretrained_embeddings, freeze=True)\n",
        "        self.lstm            = nn.LSTM(embedding_dim, hidden_dim, bidirectional=True, num_layers=2, dropout = 0.3)\n",
        "        self.hidden2tag      = nn.Linear(2*hidden_dim, tagset_size)\n",
        "\n",
        "    def forward(self, words):\n",
        "        embeds      = self.word_embeddings(words)\n",
        "        lstm_out, _ = self.lstm(embeds.view(len(words), 1, -1))\n",
        "        tag_space   = self.hidden2tag(lstm_out.view(len(words), -1))\n",
        "        tag_scores  = F.log_softmax(tag_space, dim=1)\n",
        "\n",
        "        return tag_scores\n",
        "\n",
        "    def predict_tags(self, words):\n",
        "        with torch.no_grad():\n",
        "            tags_pred = model(words).numpy()\n",
        "            tags_pred = np.argmax(tags_pred, axis=1)\n",
        "\n",
        "        return tags_pred"
      ],
      "metadata": {
        "execution": {
          "iopub.status.busy": "2024-02-14T11:24:58.964729Z",
          "iopub.execute_input": "2024-02-14T11:24:58.965138Z",
          "iopub.status.idle": "2024-02-14T11:24:58.976631Z",
          "shell.execute_reply.started": "2024-02-14T11:24:58.965104Z",
          "shell.execute_reply": "2024-02-14T11:24:58.975476Z"
        },
        "trusted": true,
        "id": "V8vrv2OMUtQ8"
      },
      "execution_count": null,
      "outputs": []
    },
    {
      "cell_type": "code",
      "source": [
        "classes = np.array([i for i in tag2ix.values()])\n",
        "classes\n"
      ],
      "metadata": {
        "execution": {
          "iopub.status.busy": "2024-02-14T11:25:02.896248Z",
          "iopub.execute_input": "2024-02-14T11:25:02.896676Z",
          "iopub.status.idle": "2024-02-14T11:25:02.905745Z",
          "shell.execute_reply.started": "2024-02-14T11:25:02.896646Z",
          "shell.execute_reply": "2024-02-14T11:25:02.904330Z"
        },
        "trusted": true,
        "id": "8g2bDLyDUtQ9",
        "outputId": "a0f73b7c-0303-4eab-aa81-3f0e849ee1f4"
      },
      "execution_count": null,
      "outputs": [
        {
          "execution_count": 150,
          "output_type": "execute_result",
          "data": {
            "text/plain": "array([0, 1, 2, 3, 4, 5, 6, 7])"
          },
          "metadata": {}
        }
      ]
    },
    {
      "cell_type": "code",
      "source": [
        "num_pad = tag2ix['PAD_TAG']\n",
        "classes = np.delete(classes, num_pad)\n",
        "classes"
      ],
      "metadata": {
        "execution": {
          "iopub.status.busy": "2024-02-14T11:25:06.575196Z",
          "iopub.execute_input": "2024-02-14T11:25:06.576174Z",
          "iopub.status.idle": "2024-02-14T11:25:06.584563Z",
          "shell.execute_reply.started": "2024-02-14T11:25:06.576134Z",
          "shell.execute_reply": "2024-02-14T11:25:06.583129Z"
        },
        "trusted": true,
        "id": "hrB82oTRUtQ-",
        "outputId": "406cc542-d4d8-4ee2-f98e-00c545f69646"
      },
      "execution_count": null,
      "outputs": [
        {
          "execution_count": 151,
          "output_type": "execute_result",
          "data": {
            "text/plain": "array([0, 1, 2, 3, 4, 5, 7])"
          },
          "metadata": {}
        }
      ]
    },
    {
      "cell_type": "code",
      "source": [
        "class_weights = class_weight.compute_class_weight(class_weight='balanced', classes = classes, y= np.array([item for sublist in train_sent_tags_digitized for item in sublist]))\n",
        "class_weights = np.insert(class_weights, num_pad, 0)\n",
        "class_weights = torch.Tensor(class_weights)\n",
        "#print([round(i, 3) for i in class_weights])"
      ],
      "metadata": {
        "execution": {
          "iopub.status.busy": "2024-02-14T11:25:10.408184Z",
          "iopub.execute_input": "2024-02-14T11:25:10.408612Z",
          "iopub.status.idle": "2024-02-14T11:25:10.469036Z",
          "shell.execute_reply.started": "2024-02-14T11:25:10.408581Z",
          "shell.execute_reply": "2024-02-14T11:25:10.466641Z"
        },
        "trusted": true,
        "id": "UTNYk0JMUtQ-"
      },
      "execution_count": null,
      "outputs": []
    },
    {
      "cell_type": "code",
      "source": [
        "class_weights"
      ],
      "metadata": {
        "execution": {
          "iopub.status.busy": "2024-02-14T10:07:29.723603Z",
          "iopub.execute_input": "2024-02-14T10:07:29.724133Z",
          "iopub.status.idle": "2024-02-14T10:07:29.734532Z",
          "shell.execute_reply.started": "2024-02-14T10:07:29.724096Z",
          "shell.execute_reply": "2024-02-14T10:07:29.733051Z"
        },
        "trusted": true,
        "id": "lccdFTRAUtQ_",
        "outputId": "ef01f9fa-deeb-423c-bcad-29bf8b6ff6e5"
      },
      "execution_count": null,
      "outputs": [
        {
          "execution_count": 121,
          "output_type": "execute_result",
          "data": {
            "text/plain": "tensor([2.6569e+00, 3.7675e+00, 2.7404e+02, 1.5460e+01, 1.6128e-01, 1.2238e+01,\n        0.0000e+00, 1.2789e+02])"
          },
          "metadata": {}
        }
      ]
    },
    {
      "cell_type": "code",
      "source": [
        "model = LSTMTagger(300, 200, len(vocab), len(tagset), pretrained_embeddings)\n",
        "loss_function = nn.NLLLoss(class_weights)\n",
        "optimizer = optim.SGD(model.parameters(), lr=0.1)"
      ],
      "metadata": {
        "execution": {
          "iopub.status.busy": "2024-02-14T11:25:15.709552Z",
          "iopub.execute_input": "2024-02-14T11:25:15.710065Z",
          "iopub.status.idle": "2024-02-14T11:25:15.739582Z",
          "shell.execute_reply.started": "2024-02-14T11:25:15.709927Z",
          "shell.execute_reply": "2024-02-14T11:25:15.738279Z"
        },
        "trusted": true,
        "id": "7X6X69DmUtQ_"
      },
      "execution_count": null,
      "outputs": []
    },
    {
      "cell_type": "code",
      "source": [
        "def fit(model, train_loader):\n",
        "\n",
        "    losses = []\n",
        "\n",
        "    predicted_labels = []\n",
        "    predicted_labels_list = []\n",
        "    tags_list = []\n",
        "\n",
        "    model.train()\n",
        "\n",
        "    loss_fn = loss_function.to(device)\n",
        "\n",
        "    for text, tags  in train_loader:\n",
        "\n",
        "        optimizer.zero_grad()\n",
        "        tags = torch.LongTensor(tags).to(device)\n",
        "        text = torch.LongTensor(text).to(device)\n",
        "\n",
        "        outputs = model(text)\n",
        "        loss = loss_fn(outputs, tags)\n",
        "        loss.backward()\n",
        "        losses.append(loss.item())\n",
        "\n",
        "        torch.nn.utils.clip_grad_norm_(model.parameters(), max_norm=1.0)\n",
        "        optimizer.step()\n",
        "\n",
        "        with torch.no_grad():\n",
        "            predicted_labels = torch.argmax(outputs, dim=1)\n",
        "            predicted_labels_list.extend(predicted_labels.tolist())\n",
        "            tags_list.extend(tags.tolist())\n",
        "\n",
        "\n",
        "    train_loss = np.mean(losses)\n",
        "    print(classification_report(tags_list, predicted_labels_list, zero_division=0))\n",
        "\n",
        "\n",
        "    return train_loss\n",
        "\n",
        "def eval(model, valid_loader):\n",
        "    model.eval()\n",
        "    losses = []\n",
        "    predicted_labels = []\n",
        "    predicted_labels_list = []\n",
        "    tags_list = []\n",
        "\n",
        "    correct_predictions = 0\n",
        "\n",
        "    loss_fn = loss_function = nn.NLLLoss().to(device)\n",
        "\n",
        "    with torch.no_grad():\n",
        "        for text, tags in valid_loader:\n",
        "            tags = torch.LongTensor(tags).to(device)\n",
        "            text = torch.LongTensor(text).to(device)\n",
        "\n",
        "            outputs = model(text).to(device)\n",
        "            loss = loss_fn(outputs, tags)\n",
        "\n",
        "\n",
        "            correct_predictions += torch.sum(torch.argmax(outputs, dim=1) == tags)\n",
        "            losses.append(loss.item())\n",
        "\n",
        "\n",
        "            predicted_labels = torch.argmax(outputs, dim=1)\n",
        "            predicted_labels_list.extend(predicted_labels.tolist())\n",
        "            tags_list.extend(tags.tolist())\n",
        "\n",
        "        print(classification_report(tags_list, predicted_labels_list, zero_division=0))\n",
        "\n",
        "        val_loss = np.mean(losses)\n",
        "        return  val_loss\n",
        "\n",
        "\n",
        "\n",
        "def train(model, train_loader, valid_loader, optimizer, epochs):\n",
        "\n",
        "\n",
        "        for epoch in range(epochs):\n",
        "            print(f'Epoch {epoch + 1}/{epochs}')\n",
        "            train_loss = fit(model, train_loader)\n",
        "            print(f'Train loss {train_loss} ')\n",
        "\n",
        "            val_loss = eval(model, valid_loader)\n",
        "            print(f'Val loss {val_loss}')\n",
        "            print('-' * 10)\n",
        "\n",
        "            torch.save(model,f'/kaggle/working/model_epoch{epoch}.pt')\n",
        "            torch.save(model.state_dict(),f'/kaggle/working/model_state_epoch{epoch}.pt')\n",
        ""
      ],
      "metadata": {
        "execution": {
          "iopub.status.busy": "2024-02-14T11:25:32.668308Z",
          "iopub.execute_input": "2024-02-14T11:25:32.668838Z",
          "iopub.status.idle": "2024-02-14T11:25:32.686984Z",
          "shell.execute_reply.started": "2024-02-14T11:25:32.668801Z",
          "shell.execute_reply": "2024-02-14T11:25:32.685427Z"
        },
        "trusted": true,
        "id": "kVum-9zDUtRA"
      },
      "execution_count": null,
      "outputs": []
    },
    {
      "cell_type": "code",
      "source": [
        "batch_tok2tag2pred = []\n",
        "    batch_joint_accuracies = []\n",
        "    batch_mean_accuracies = []\n",
        "\n",
        "    for some_txt, some_tgt, tags_predicted_digitized in zip(text,\n",
        "                                                            tags,\n",
        "                                                            outputs.argmax(dim=-1).tolist()):\n",
        "        # восстанавливаем токены, предсказанные и ожидаемые метки токенов, из их численных записей\n",
        "        tokens = list(map(ix2word.get, some_text))\n",
        "        tags_true = list(map(ix2tag.get, some_tgt))\n",
        "        tags_pred = list(map(ix2tag.get, tags_predicted_digitized))\n",
        "\n",
        "        tok2tag2pred = list(zip(tokens, tags_true, tags_pred))\n",
        "\n",
        "        batch_tok2tag2pred.append(tok2tag2pred)\n",
        "\n",
        "        correct_preds = []  # чтобы хранить верные предсказания модели в человекочитаемом виде\n",
        "        actual_preds = []  # чтобы хранить *все* предсказания модели в человекочитаемом виде\n",
        "        for tok, gold_tag, pred_tag in tok2tag2pred:\n",
        "            batch_entry_w_prediction = (tok, gold_tag, pred_tag)\n",
        "            if gold_tag == pred_tag:\n",
        "                correct_preds.append(batch_entry_w_prediction)\n",
        "            actual_preds.append(batch_entry_w_prediction)\n",
        "\n",
        "        correct_preds_num = len(correct_preds)\n",
        "        joint_accuracy = int(correct_preds_num == len(actual_preds))  # 1 если не было ошибок, иначе 0\n",
        "        mean_accuracy = correct_preds_num/len(actual_preds) if actual_preds else 0  # доля верных ответов\n",
        "        batch_joint_accuracies.append(joint_accuracy)\n",
        "        batch_mean_accuracies.append(mean_accuracy)\n",
        "        print(classification_report(tags_predicted_digitized, tags))"
      ],
      "metadata": {
        "id": "KfJE-hwaUtRB"
      },
      "execution_count": null,
      "outputs": []
    },
    {
      "cell_type": "code",
      "source": [
        "device = 'cpu'\n",
        "train(model, train_data, val_data, optimizer, epochs=15 )"
      ],
      "metadata": {
        "execution": {
          "iopub.status.busy": "2024-02-14T11:25:48.875902Z",
          "iopub.execute_input": "2024-02-14T11:25:48.876502Z",
          "iopub.status.idle": "2024-02-14T11:59:50.721700Z",
          "shell.execute_reply.started": "2024-02-14T11:25:48.876463Z",
          "shell.execute_reply": "2024-02-14T11:59:50.719020Z"
        },
        "trusted": true,
        "id": "l6NglnDaUtRB",
        "outputId": "ccb8cbd1-376d-402d-d7c3-2de047f9df84"
      },
      "execution_count": null,
      "outputs": [
        {
          "name": "stdout",
          "text": "Epoch 1/15\n              precision    recall  f1-score   support\n\n           0       0.39      0.35      0.37      8664\n           1       0.24      0.60      0.34      6110\n           2       0.00      0.00      0.00        84\n           3       0.12      0.28      0.17      1489\n           4       0.94      0.87      0.91    142730\n           5       0.16      0.23      0.19      1881\n           7       0.00      0.00      0.00       180\n\n    accuracy                           0.82    161138\n   macro avg       0.26      0.33      0.28    161138\nweighted avg       0.87      0.82      0.84    161138\n\nTrain loss 0.9520357435593592 \n              precision    recall  f1-score   support\n\n           0       0.65      0.31      0.42      1260\n           1       0.36      0.74      0.48       765\n           2       0.00      0.00      0.00        14\n           3       0.22      0.49      0.31       124\n           4       0.94      0.93      0.93     15591\n           5       0.51      0.28      0.36       138\n           7       0.00      0.00      0.00        33\n\n    accuracy                           0.87     17925\n   macro avg       0.38      0.39      0.36     17925\nweighted avg       0.88      0.87      0.87     17925\n\nVal loss 0.36898434839451244\n----------\nEpoch 2/15\n              precision    recall  f1-score   support\n\n           0       0.45      0.52      0.48      8664\n           1       0.38      0.74      0.51      6110\n           2       0.00      0.00      0.00        84\n           3       0.26      0.56      0.35      1489\n           4       0.96      0.89      0.93    142730\n           5       0.33      0.51      0.40      1881\n           7       0.00      0.00      0.00       180\n\n    accuracy                           0.86    161138\n   macro avg       0.34      0.46      0.38    161138\nweighted avg       0.89      0.86      0.87    161138\n\nTrain loss 0.6626563032951435 \n              precision    recall  f1-score   support\n\n           0       0.60      0.38      0.47      1260\n           1       0.42      0.80      0.55       765\n           2       0.00      0.00      0.00        14\n           3       0.33      0.54      0.41       124\n           4       0.94      0.93      0.94     15591\n           5       0.42      0.41      0.41       138\n           7       0.00      0.00      0.00        33\n\n    accuracy                           0.88     17925\n   macro avg       0.39      0.44      0.40     17925\nweighted avg       0.89      0.88      0.88     17925\n\nVal loss 0.326906600567967\n----------\nEpoch 3/15\n              precision    recall  f1-score   support\n\n           0       0.45      0.57      0.51      8664\n           1       0.44      0.78      0.56      6110\n           2       0.00      0.00      0.00        84\n           3       0.34      0.65      0.44      1489\n           4       0.96      0.90      0.93    142730\n           5       0.35      0.56      0.43      1881\n           7       0.00      0.00      0.00       180\n\n    accuracy                           0.87    161138\n   macro avg       0.36      0.49      0.41    161138\nweighted avg       0.90      0.87      0.88    161138\n\nTrain loss 0.5858019722327661 \n              precision    recall  f1-score   support\n\n           0       0.53      0.48      0.50      1260\n           1       0.46      0.81      0.59       765\n           2       0.00      0.00      0.00        14\n           3       0.37      0.58      0.45       124\n           4       0.95      0.92      0.94     15591\n           5       0.40      0.46      0.43       138\n           7       0.00      0.00      0.00        33\n\n    accuracy                           0.88     17925\n   macro avg       0.39      0.46      0.42     17925\nweighted avg       0.89      0.88      0.88     17925\n\nVal loss 0.31139437874302545\n----------\nEpoch 4/15\n              precision    recall  f1-score   support\n\n           0       0.46      0.61      0.52      8664\n           1       0.46      0.79      0.58      6110\n           2       0.33      0.02      0.04        84\n           3       0.36      0.68      0.47      1489\n           4       0.97      0.90      0.93    142730\n           5       0.35      0.57      0.44      1881\n           7       0.00      0.00      0.00       180\n\n    accuracy                           0.88    161138\n   macro avg       0.42      0.51      0.43    161138\nweighted avg       0.91      0.88      0.89    161138\n\nTrain loss 0.544087044266733 \n              precision    recall  f1-score   support\n\n           0       0.53      0.53      0.53      1260\n           1       0.47      0.81      0.60       765\n           2       0.00      0.00      0.00        14\n           3       0.35      0.69      0.46       124\n           4       0.96      0.91      0.93     15591\n           5       0.37      0.52      0.43       138\n           7       0.00      0.00      0.00        33\n\n    accuracy                           0.88     17925\n   macro avg       0.38      0.50      0.42     17925\nweighted avg       0.89      0.88      0.88     17925\n\nVal loss 0.30786711305269293\n----------\nEpoch 5/15\n              precision    recall  f1-score   support\n\n           0       0.47      0.64      0.55      8664\n           1       0.48      0.81      0.60      6110\n           2       0.47      0.11      0.17        84\n           3       0.39      0.69      0.50      1489\n           4       0.97      0.91      0.94    142730\n           5       0.36      0.59      0.45      1881\n           7       0.57      0.02      0.04       180\n\n    accuracy                           0.88    161138\n   macro avg       0.53      0.54      0.46    161138\nweighted avg       0.91      0.88      0.89    161138\n\nTrain loss 0.5086292187013068 \n              precision    recall  f1-score   support\n\n           0       0.51      0.58      0.54      1260\n           1       0.51      0.81      0.62       765\n           2       0.00      0.00      0.00        14\n           3       0.38      0.69      0.49       124\n           4       0.96      0.91      0.94     15591\n           5       0.39      0.52      0.45       138\n           7       0.00      0.00      0.00        33\n\n    accuracy                           0.88     17925\n   macro avg       0.39      0.50      0.43     17925\nweighted avg       0.90      0.88      0.89     17925\n\nVal loss 0.3029891214796605\n----------\nEpoch 6/15\n              precision    recall  f1-score   support\n\n           0       0.49      0.67      0.56      8664\n           1       0.50      0.82      0.62      6110\n           2       0.40      0.14      0.21        84\n           3       0.41      0.71      0.52      1489\n           4       0.97      0.91      0.94    142730\n           5       0.37      0.61      0.46      1881\n           7       0.35      0.04      0.07       180\n\n    accuracy                           0.89    161138\n   macro avg       0.50      0.55      0.48    161138\nweighted avg       0.91      0.89      0.90    161138\n\nTrain loss 0.4841293107396231 \n              precision    recall  f1-score   support\n\n           0       0.51      0.61      0.56      1260\n           1       0.53      0.80      0.64       765\n           2       0.00      0.00      0.00        14\n           3       0.41      0.67      0.51       124\n           4       0.96      0.92      0.94     15591\n           5       0.41      0.52      0.46       138\n           7       0.00      0.00      0.00        33\n\n    accuracy                           0.88     17925\n   macro avg       0.40      0.50      0.44     17925\nweighted avg       0.90      0.88      0.89     17925\n\nVal loss 0.28824383445501867\n----------\nEpoch 7/15\n              precision    recall  f1-score   support\n\n           0       0.50      0.69      0.58      8664\n           1       0.51      0.82      0.63      6110\n           2       0.34      0.21      0.26        84\n           3       0.41      0.72      0.52      1489\n           4       0.97      0.91      0.94    142730\n           5       0.37      0.61      0.46      1881\n           7       0.50      0.08      0.14       180\n\n    accuracy                           0.89    161138\n   macro avg       0.51      0.58      0.51    161138\nweighted avg       0.92      0.89      0.90    161138\n\nTrain loss 0.46328006818885725 \n              precision    recall  f1-score   support\n\n           0       0.52      0.64      0.58      1260\n           1       0.55      0.81      0.65       765\n           2       0.00      0.00      0.00        14\n           3       0.44      0.67      0.53       124\n           4       0.96      0.92      0.94     15591\n           5       0.41      0.51      0.46       138\n           7       0.00      0.00      0.00        33\n\n    accuracy                           0.89     17925\n   macro avg       0.41      0.51      0.45     17925\nweighted avg       0.90      0.89      0.89     17925\n\nVal loss 0.28417087360127535\n----------\nEpoch 8/15\n              precision    recall  f1-score   support\n\n           0       0.51      0.70      0.59      8664\n           1       0.53      0.83      0.65      6110\n           2       0.30      0.24      0.26        84\n           3       0.43      0.73      0.54      1489\n           4       0.97      0.91      0.94    142730\n           5       0.38      0.63      0.47      1881\n           7       0.36      0.09      0.14       180\n\n    accuracy                           0.89    161138\n   macro avg       0.50      0.59      0.51    161138\nweighted avg       0.92      0.89      0.90    161138\n\nTrain loss 0.44280139065366786 \n              precision    recall  f1-score   support\n\n           0       0.49      0.69      0.57      1260\n           1       0.55      0.81      0.66       765\n           2       0.00      0.00      0.00        14\n           3       0.40      0.73      0.52       124\n           4       0.97      0.91      0.94     15591\n           5       0.41      0.56      0.47       138\n           7       0.50      0.03      0.06        33\n\n    accuracy                           0.88     17925\n   macro avg       0.47      0.53      0.46     17925\nweighted avg       0.91      0.88      0.89     17925\n\nVal loss 0.29596076629756884\n----------\nEpoch 9/15\n              precision    recall  f1-score   support\n\n           0       0.53      0.71      0.60      8664\n           1       0.54      0.84      0.66      6110\n           2       0.32      0.27      0.29        84\n           3       0.43      0.74      0.55      1489\n           4       0.97      0.92      0.94    142730\n           5       0.39      0.64      0.49      1881\n           7       0.40      0.12      0.19       180\n\n    accuracy                           0.90    161138\n   macro avg       0.51      0.61      0.53    161138\nweighted avg       0.92      0.90      0.91    161138\n\nTrain loss 0.4220577777425753 \n              precision    recall  f1-score   support\n\n           0       0.51      0.69      0.58      1260\n           1       0.55      0.80      0.65       765\n           2       0.00      0.00      0.00        14\n           3       0.40      0.71      0.51       124\n           4       0.97      0.91      0.94     15591\n           5       0.40      0.57      0.47       138\n           7       0.50      0.06      0.11        33\n\n    accuracy                           0.88     17925\n   macro avg       0.47      0.53      0.47     17925\nweighted avg       0.91      0.88      0.89     17925\n\nVal loss 0.29249051515902935\n----------\nEpoch 10/15\n              precision    recall  f1-score   support\n\n           0       0.55      0.73      0.63      8664\n           1       0.56      0.84      0.67      6110\n           2       0.33      0.32      0.33        84\n           3       0.45      0.75      0.56      1489\n           4       0.98      0.92      0.95    142730\n           5       0.39      0.66      0.49      1881\n           7       0.38      0.19      0.26       180\n\n    accuracy                           0.90    161138\n   macro avg       0.52      0.63      0.56    161138\nweighted avg       0.92      0.90      0.91    161138\n\nTrain loss 0.4031466319976911 \n              precision    recall  f1-score   support\n\n           0       0.49      0.74      0.59      1260\n           1       0.55      0.81      0.65       765\n           2       0.00      0.00      0.00        14\n           3       0.41      0.68      0.51       124\n           4       0.97      0.90      0.93     15591\n           5       0.43      0.55      0.48       138\n           7       0.33      0.06      0.10        33\n\n    accuracy                           0.88     17925\n   macro avg       0.45      0.53      0.47     17925\nweighted avg       0.91      0.88      0.89     17925\n\nVal loss 0.30084120359807215\n----------\nEpoch 11/15\n              precision    recall  f1-score   support\n\n           0       0.56      0.74      0.64      8664\n           1       0.57      0.85      0.68      6110\n           2       0.32      0.33      0.33        84\n           3       0.46      0.77      0.58      1489\n           4       0.98      0.92      0.95    142730\n           5       0.41      0.68      0.51      1881\n           7       0.40      0.22      0.29       180\n\n    accuracy                           0.91    161138\n   macro avg       0.53      0.65      0.57    161138\nweighted avg       0.93      0.91      0.91    161138\n\nTrain loss 0.38390970474812797 \n              precision    recall  f1-score   support\n\n           0       0.52      0.73      0.61      1260\n           1       0.55      0.81      0.66       765\n           2       0.00      0.00      0.00        14\n           3       0.44      0.68      0.53       124\n           4       0.97      0.91      0.94     15591\n           5       0.42      0.57      0.49       138\n           7       0.40      0.06      0.11        33\n\n    accuracy                           0.89     17925\n   macro avg       0.47      0.54      0.48     17925\nweighted avg       0.91      0.89      0.90     17925\n\nVal loss 0.2916105769959952\n----------\nEpoch 12/15\n              precision    recall  f1-score   support\n\n           0       0.57      0.75      0.65      8664\n           1       0.59      0.86      0.70      6110\n           2       0.31      0.37      0.34        84\n           3       0.47      0.78      0.59      1489\n           4       0.98      0.93      0.95    142730\n           5       0.41      0.70      0.52      1881\n           7       0.41      0.28      0.33       180\n\n    accuracy                           0.91    161138\n   macro avg       0.53      0.66      0.58    161138\nweighted avg       0.93      0.91      0.92    161138\n\nTrain loss 0.36781789518319774 \n              precision    recall  f1-score   support\n\n           0       0.51      0.74      0.60      1260\n           1       0.55      0.81      0.65       765\n           2       0.00      0.00      0.00        14\n           3       0.39      0.71      0.51       124\n           4       0.97      0.91      0.94     15591\n           5       0.43      0.63      0.51       138\n           7       0.27      0.09      0.14        33\n\n    accuracy                           0.88     17925\n   macro avg       0.45      0.56      0.48     17925\nweighted avg       0.91      0.88      0.89     17925\n\nVal loss 0.30782069877424395\n----------\nEpoch 13/15\n              precision    recall  f1-score   support\n\n           0       0.58      0.75      0.66      8664\n           1       0.60      0.87      0.71      6110\n           2       0.38      0.43      0.40        84\n           3       0.48      0.78      0.60      1489\n           4       0.98      0.93      0.95    142730\n           5       0.43      0.72      0.54      1881\n           7       0.42      0.33      0.37       180\n\n    accuracy                           0.91    161138\n   macro avg       0.55      0.69      0.60    161138\nweighted avg       0.93      0.91      0.92    161138\n\nTrain loss 0.35094193314828165 \n              precision    recall  f1-score   support\n\n           0       0.54      0.70      0.61      1260\n           1       0.55      0.82      0.65       765\n           2       0.00      0.00      0.00        14\n           3       0.40      0.69      0.50       124\n           4       0.97      0.91      0.94     15591\n           5       0.40      0.62      0.49       138\n           7       0.27      0.09      0.14        33\n\n    accuracy                           0.89     17925\n   macro avg       0.45      0.55      0.48     17925\nweighted avg       0.91      0.89      0.90     17925\n\nVal loss 0.3067004954868768\n----------\nEpoch 14/15\n              precision    recall  f1-score   support\n\n           0       0.60      0.77      0.68      8664\n           1       0.61      0.87      0.72      6110\n           2       0.33      0.43      0.37        84\n           3       0.50      0.80      0.61      1489\n           4       0.98      0.93      0.96    142730\n           5       0.43      0.73      0.54      1881\n           7       0.40      0.34      0.37       180\n\n    accuracy                           0.92    161138\n   macro avg       0.55      0.70      0.61    161138\nweighted avg       0.93      0.92      0.92    161138\n\nTrain loss 0.33422657146316703 \n              precision    recall  f1-score   support\n\n           0       0.57      0.66      0.61      1260\n           1       0.59      0.78      0.67       765\n           2       0.08      0.07      0.08        14\n           3       0.42      0.69      0.52       124\n           4       0.96      0.93      0.95     15591\n           5       0.44      0.62      0.52       138\n           7       0.23      0.09      0.13        33\n\n    accuracy                           0.90     17925\n   macro avg       0.47      0.55      0.50     17925\nweighted avg       0.91      0.90      0.90     17925\n\nVal loss 0.29279992074219363\n----------\nEpoch 15/15\n              precision    recall  f1-score   support\n\n           0       0.61      0.78      0.68      8664\n           1       0.63      0.88      0.73      6110\n           2       0.35      0.49      0.41        84\n           3       0.50      0.81      0.62      1489\n           4       0.98      0.93      0.96    142730\n           5       0.44      0.74      0.55      1881\n           7       0.41      0.41      0.41       180\n\n    accuracy                           0.92    161138\n   macro avg       0.56      0.72      0.62    161138\nweighted avg       0.94      0.92      0.92    161138\n\nTrain loss 0.3196726239975529 \n              precision    recall  f1-score   support\n\n           0       0.56      0.68      0.61      1260\n           1       0.57      0.80      0.66       765\n           2       0.00      0.00      0.00        14\n           3       0.38      0.69      0.49       124\n           4       0.97      0.92      0.94     15591\n           5       0.43      0.62      0.51       138\n           7       0.25      0.09      0.13        33\n\n    accuracy                           0.89     17925\n   macro avg       0.45      0.54      0.48     17925\nweighted avg       0.91      0.89      0.90     17925\n\nVal loss 0.3102388272428808\n----------\n",
          "output_type": "stream"
        }
      ]
    },
    {
      "cell_type": "code",
      "source": [
        "train(model, train_data, val_data, optimizer, epochs=1 )"
      ],
      "metadata": {
        "execution": {
          "iopub.status.busy": "2024-02-14T12:18:06.026235Z",
          "iopub.execute_input": "2024-02-14T12:18:06.027012Z",
          "iopub.status.idle": "2024-02-14T12:20:18.628707Z",
          "shell.execute_reply.started": "2024-02-14T12:18:06.026964Z",
          "shell.execute_reply": "2024-02-14T12:20:18.626843Z"
        },
        "trusted": true,
        "id": "G-RL4TpdUtRC",
        "outputId": "9dcd636a-5d03-468b-e419-a01c27767241"
      },
      "execution_count": null,
      "outputs": [
        {
          "name": "stdout",
          "text": "Epoch 1/1\n              precision    recall  f1-score   support\n\n           0       0.67      0.82      0.74      8664\n           1       0.69      0.90      0.78      6110\n           2       0.43      0.60      0.50        84\n           3       0.56      0.86      0.68      1489\n           4       0.99      0.94      0.96    142730\n           5       0.49      0.81      0.61      1881\n           7       0.43      0.56      0.49       180\n\n    accuracy                           0.93    161138\n   macro avg       0.61      0.78      0.68    161138\nweighted avg       0.95      0.93      0.94    161138\n\nTrain loss 0.2455434432908563 \n              precision    recall  f1-score   support\n\n           0       0.57      0.68      0.62      1260\n           1       0.59      0.74      0.66       765\n           2       0.00      0.00      0.00        14\n           3       0.35      0.71      0.47       124\n           4       0.97      0.93      0.95     15591\n           5       0.38      0.61      0.47       138\n           7       0.38      0.09      0.15        33\n\n    accuracy                           0.90     17925\n   macro avg       0.46      0.54      0.47     17925\nweighted avg       0.91      0.90      0.90     17925\n\nVal loss 0.36061440739792355\n----------\n",
          "output_type": "stream"
        }
      ]
    },
    {
      "cell_type": "code",
      "source": [
        "train(model, train_data, val_data, optimizer, epochs=3 )"
      ],
      "metadata": {
        "execution": {
          "iopub.status.busy": "2024-02-14T10:42:41.153136Z",
          "iopub.execute_input": "2024-02-14T10:42:41.153578Z",
          "iopub.status.idle": "2024-02-14T10:49:26.833436Z",
          "shell.execute_reply.started": "2024-02-14T10:42:41.153548Z",
          "shell.execute_reply": "2024-02-14T10:49:26.831778Z"
        },
        "trusted": true,
        "id": "PTprN9vXUtRC",
        "outputId": "26f2d90a-b2bb-45ce-d229-d0fa3f4d3515"
      },
      "execution_count": null,
      "outputs": [
        {
          "name": "stdout",
          "text": "Epoch 1/3\n              precision    recall  f1-score   support\n\n           0       0.55      0.74      0.63      8664\n           1       0.58      0.85      0.69      6110\n           2       0.31      0.35      0.33        84\n           3       0.46      0.76      0.57      1489\n           4       0.98      0.92      0.95    142730\n           5       0.40      0.69      0.51      1881\n           7       0.35      0.19      0.25       180\n\n    accuracy                           0.90    161138\n   macro avg       0.52      0.64      0.56    161138\nweighted avg       0.93      0.90      0.91    161138\n\nTrain loss 0.3807654578164689 \n              precision    recall  f1-score   support\n\n           0       0.55      0.64      0.59      1260\n           1       0.60      0.79      0.68       765\n           2       0.00      0.00      0.00        14\n           3       0.49      0.69      0.57       124\n           4       0.96      0.93      0.95     15591\n           5       0.44      0.55      0.49       138\n           7       0.33      0.09      0.14        33\n\n    accuracy                           0.90     17925\n   macro avg       0.48      0.53      0.49     17925\nweighted avg       0.91      0.90      0.90     17925\n\nVal loss 0.2997322916498249\n----------\nEpoch 2/3\n              precision    recall  f1-score   support\n\n           0       0.57      0.75      0.65      8664\n           1       0.59      0.86      0.70      6110\n           2       0.34      0.36      0.35        84\n           3       0.47      0.78      0.58      1489\n           4       0.98      0.93      0.95    142730\n           5       0.41      0.71      0.52      1881\n           7       0.41      0.26      0.32       180\n\n    accuracy                           0.91    161138\n   macro avg       0.54      0.66      0.58    161138\nweighted avg       0.93      0.91      0.92    161138\n\nTrain loss 0.36260523304215436 \n              precision    recall  f1-score   support\n\n           0       0.54      0.66      0.59      1260\n           1       0.57      0.80      0.67       765\n           2       0.00      0.00      0.00        14\n           3       0.45      0.69      0.54       124\n           4       0.96      0.92      0.94     15591\n           5       0.44      0.59      0.50       138\n           7       0.25      0.09      0.13        33\n\n    accuracy                           0.89     17925\n   macro avg       0.46      0.53      0.48     17925\nweighted avg       0.91      0.89      0.90     17925\n\nVal loss 0.3151893968691649\n----------\nEpoch 3/3\n              precision    recall  f1-score   support\n\n           0       0.59      0.77      0.67      8664\n           1       0.60      0.86      0.71      6110\n           2       0.33      0.40      0.36        84\n           3       0.49      0.78      0.60      1489\n           4       0.98      0.93      0.95    142730\n           5       0.42      0.73      0.53      1881\n           7       0.40      0.30      0.34       180\n\n    accuracy                           0.91    161138\n   macro avg       0.54      0.68      0.60    161138\nweighted avg       0.93      0.91      0.92    161138\n\nTrain loss 0.3454658952434705 \n              precision    recall  f1-score   support\n\n           0       0.59      0.59      0.59      1260\n           1       0.61      0.77      0.68       765\n           2       0.00      0.00      0.00        14\n           3       0.51      0.65      0.57       124\n           4       0.96      0.94      0.95     15591\n           5       0.48      0.56      0.51       138\n           7       0.27      0.09      0.14        33\n\n    accuracy                           0.90     17925\n   macro avg       0.49      0.51      0.49     17925\nweighted avg       0.91      0.90      0.90     17925\n\nVal loss 0.31782232660875753\n----------\n",
          "output_type": "stream"
        }
      ]
    },
    {
      "cell_type": "code",
      "source": [
        "loaded = torch.load('/kaggle/working/model_epoch14.pt')"
      ],
      "metadata": {
        "execution": {
          "iopub.status.busy": "2024-02-14T12:23:30.953934Z",
          "iopub.execute_input": "2024-02-14T12:23:30.954487Z",
          "iopub.status.idle": "2024-02-14T12:23:30.987883Z",
          "shell.execute_reply.started": "2024-02-14T12:23:30.954455Z",
          "shell.execute_reply": "2024-02-14T12:23:30.986589Z"
        },
        "trusted": true,
        "id": "9Y6hKGJNUtRD"
      },
      "execution_count": null,
      "outputs": []
    },
    {
      "cell_type": "code",
      "source": [
        "test_sents_digitized = [[word2ix[tok] for tok in sent_toks]\n",
        "                         for sent_toks in test_sents]"
      ],
      "metadata": {
        "_kg_hide-input": true,
        "execution": {
          "iopub.status.busy": "2024-02-14T12:24:33.740186Z",
          "iopub.execute_input": "2024-02-14T12:24:33.740724Z",
          "iopub.status.idle": "2024-02-14T12:24:33.759514Z",
          "shell.execute_reply.started": "2024-02-14T12:24:33.740692Z",
          "shell.execute_reply": "2024-02-14T12:24:33.758160Z"
        },
        "trusted": true,
        "id": "HQ5lC5M1UtRD"
      },
      "execution_count": null,
      "outputs": []
    },
    {
      "cell_type": "code",
      "source": [
        "test_data = list(zip( test_id_sents, test_sents_digitized))"
      ],
      "metadata": {
        "execution": {
          "iopub.status.busy": "2024-02-14T12:29:41.885459Z",
          "iopub.execute_input": "2024-02-14T12:29:41.885989Z",
          "iopub.status.idle": "2024-02-14T12:29:41.892262Z",
          "shell.execute_reply.started": "2024-02-14T12:29:41.885937Z",
          "shell.execute_reply": "2024-02-14T12:29:41.890856Z"
        },
        "trusted": true,
        "id": "cMYpguh6UtRD"
      },
      "execution_count": null,
      "outputs": []
    },
    {
      "cell_type": "code",
      "source": [
        "predicted_labels=[]\n",
        "predicted_labels_list=[]\n",
        "ids_list=[]\n",
        "\n",
        "for ix, text in test_data:\n",
        "    text = torch.LongTensor(text)\n",
        "\n",
        "    outputs = model(text).to(device)\n",
        "    predicted_labels = torch.argmax(outputs, dim=1)\n",
        "    predicted_labels_list.extend(predicted_labels.tolist())\n",
        "    ids_list.extend(ix)\n",
        "\n",
        ""
      ],
      "metadata": {
        "execution": {
          "iopub.status.busy": "2024-02-14T12:50:24.694089Z",
          "iopub.execute_input": "2024-02-14T12:50:24.696060Z",
          "iopub.status.idle": "2024-02-14T12:50:32.959344Z",
          "shell.execute_reply.started": "2024-02-14T12:50:24.695980Z",
          "shell.execute_reply": "2024-02-14T12:50:32.958023Z"
        },
        "trusted": true,
        "id": "qH4TTlLgUtRD"
      },
      "execution_count": null,
      "outputs": []
    },
    {
      "cell_type": "code",
      "source": [
        "ids_list.extend([31467, 31468])\n",
        "predicted_labels_list.extend([4, 4])\n"
      ],
      "metadata": {
        "execution": {
          "iopub.status.busy": "2024-02-14T12:50:37.692431Z",
          "iopub.execute_input": "2024-02-14T12:50:37.693496Z",
          "iopub.status.idle": "2024-02-14T12:50:37.700322Z",
          "shell.execute_reply.started": "2024-02-14T12:50:37.693425Z",
          "shell.execute_reply": "2024-02-14T12:50:37.698797Z"
        },
        "trusted": true,
        "id": "85Y2yoBPUtRE"
      },
      "execution_count": null,
      "outputs": []
    },
    {
      "cell_type": "code",
      "source": [
        "res = pd.DataFrame()\n",
        "res['ID'] = ids_list"
      ],
      "metadata": {
        "execution": {
          "iopub.status.busy": "2024-02-14T12:54:38.794511Z",
          "iopub.execute_input": "2024-02-14T12:54:38.795003Z",
          "iopub.status.idle": "2024-02-14T12:54:38.940834Z",
          "shell.execute_reply.started": "2024-02-14T12:54:38.794973Z",
          "shell.execute_reply": "2024-02-14T12:54:38.939601Z"
        },
        "trusted": true,
        "id": "rp1_2oAkUtRF"
      },
      "execution_count": null,
      "outputs": []
    },
    {
      "cell_type": "code",
      "source": [
        "res['pred'] =  predicted_labels_list"
      ],
      "metadata": {
        "execution": {
          "iopub.status.busy": "2024-02-14T12:54:44.832159Z",
          "iopub.execute_input": "2024-02-14T12:54:44.832600Z",
          "iopub.status.idle": "2024-02-14T12:54:44.849030Z",
          "shell.execute_reply.started": "2024-02-14T12:54:44.832567Z",
          "shell.execute_reply": "2024-02-14T12:54:44.847566Z"
        },
        "trusted": true,
        "id": "ARpvkjebUtRF"
      },
      "execution_count": null,
      "outputs": []
    },
    {
      "cell_type": "code",
      "source": [
        "res['tag'] = res['pred'].apply(lambda x: ix2tag[x])"
      ],
      "metadata": {
        "execution": {
          "iopub.status.busy": "2024-02-14T12:54:47.060574Z",
          "iopub.execute_input": "2024-02-14T12:54:47.061055Z",
          "iopub.status.idle": "2024-02-14T12:54:47.077261Z",
          "shell.execute_reply.started": "2024-02-14T12:54:47.061017Z",
          "shell.execute_reply": "2024-02-14T12:54:47.075814Z"
        },
        "trusted": true,
        "id": "S5qGpqG9UtRF"
      },
      "execution_count": null,
      "outputs": []
    },
    {
      "cell_type": "code",
      "source": [
        "res = res.drop('pred', axis=1)"
      ],
      "metadata": {
        "execution": {
          "iopub.status.busy": "2024-02-14T12:54:49.611566Z",
          "iopub.execute_input": "2024-02-14T12:54:49.612005Z",
          "iopub.status.idle": "2024-02-14T12:54:49.620706Z",
          "shell.execute_reply.started": "2024-02-14T12:54:49.611972Z",
          "shell.execute_reply": "2024-02-14T12:54:49.619161Z"
        },
        "trusted": true,
        "id": "4MxZK8hAUtRG"
      },
      "execution_count": null,
      "outputs": []
    },
    {
      "cell_type": "code",
      "source": [
        "res"
      ],
      "metadata": {
        "execution": {
          "iopub.status.busy": "2024-02-14T12:50:54.036993Z",
          "iopub.execute_input": "2024-02-14T12:50:54.037533Z",
          "iopub.status.idle": "2024-02-14T12:50:54.052228Z",
          "shell.execute_reply.started": "2024-02-14T12:50:54.037392Z",
          "shell.execute_reply": "2024-02-14T12:50:54.051059Z"
        },
        "trusted": true,
        "id": "12Pheuj7UtRG",
        "outputId": "7cedf275-d18c-4cd5-bfb9-ad7063e95be8"
      },
      "execution_count": null,
      "outputs": [
        {
          "execution_count": 196,
          "output_type": "execute_result",
          "data": {
            "text/plain": "          ID tag\n0          0   O\n1          1   O\n2          2   O\n3          3   O\n4          4   O\n...      ...  ..\n31464  31464   O\n31465  31465   O\n31466  31466   O\n31467  31467   O\n31468  31468   O\n\n[31469 rows x 2 columns]",
            "text/html": "<div>\n<style scoped>\n    .dataframe tbody tr th:only-of-type {\n        vertical-align: middle;\n    }\n\n    .dataframe tbody tr th {\n        vertical-align: top;\n    }\n\n    .dataframe thead th {\n        text-align: right;\n    }\n</style>\n<table border=\"1\" class=\"dataframe\">\n  <thead>\n    <tr style=\"text-align: right;\">\n      <th></th>\n      <th>ID</th>\n      <th>tag</th>\n    </tr>\n  </thead>\n  <tbody>\n    <tr>\n      <th>0</th>\n      <td>0</td>\n      <td>O</td>\n    </tr>\n    <tr>\n      <th>1</th>\n      <td>1</td>\n      <td>O</td>\n    </tr>\n    <tr>\n      <th>2</th>\n      <td>2</td>\n      <td>O</td>\n    </tr>\n    <tr>\n      <th>3</th>\n      <td>3</td>\n      <td>O</td>\n    </tr>\n    <tr>\n      <th>4</th>\n      <td>4</td>\n      <td>O</td>\n    </tr>\n    <tr>\n      <th>...</th>\n      <td>...</td>\n      <td>...</td>\n    </tr>\n    <tr>\n      <th>31464</th>\n      <td>31464</td>\n      <td>O</td>\n    </tr>\n    <tr>\n      <th>31465</th>\n      <td>31465</td>\n      <td>O</td>\n    </tr>\n    <tr>\n      <th>31466</th>\n      <td>31466</td>\n      <td>O</td>\n    </tr>\n    <tr>\n      <th>31467</th>\n      <td>31467</td>\n      <td>O</td>\n    </tr>\n    <tr>\n      <th>31468</th>\n      <td>31468</td>\n      <td>O</td>\n    </tr>\n  </tbody>\n</table>\n<p>31469 rows × 2 columns</p>\n</div>"
          },
          "metadata": {}
        }
      ]
    },
    {
      "cell_type": "code",
      "source": [
        "res.to_csv('/kaggle/working/res.csv', index=False)"
      ],
      "metadata": {
        "execution": {
          "iopub.status.busy": "2024-02-14T12:55:01.493005Z",
          "iopub.execute_input": "2024-02-14T12:55:01.493446Z",
          "iopub.status.idle": "2024-02-14T12:55:01.524588Z",
          "shell.execute_reply.started": "2024-02-14T12:55:01.493411Z",
          "shell.execute_reply": "2024-02-14T12:55:01.523336Z"
        },
        "trusted": true,
        "id": "F9-al5aeUtRG"
      },
      "execution_count": null,
      "outputs": []
    },
    {
      "cell_type": "code",
      "source": [
        "res = res.drop('ID', axis=1)"
      ],
      "metadata": {
        "execution": {
          "iopub.status.busy": "2024-02-14T12:53:05.038888Z",
          "iopub.execute_input": "2024-02-14T12:53:05.039534Z",
          "iopub.status.idle": "2024-02-14T12:53:05.047182Z",
          "shell.execute_reply.started": "2024-02-14T12:53:05.039491Z",
          "shell.execute_reply": "2024-02-14T12:53:05.045728Z"
        },
        "trusted": true,
        "id": "OjrxJ-6gUtRH"
      },
      "execution_count": null,
      "outputs": []
    }
  ]
}